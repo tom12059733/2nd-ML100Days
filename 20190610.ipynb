{
 "cells": [
  {
   "cell_type": "code",
   "execution_count": 33,
   "metadata": {},
   "outputs": [],
   "source": [
    "# Import 需要的套件\n",
    "from sklearn import metrics\n",
    "from sklearn.ensemble import RandomForestClassifier\n",
    "from sklearn.model_selection import train_test_split\n",
    "import pandas as pd\n",
    "\n",
    "# 設定 data_path\n",
    "dir_data = './data/'"
   ]
  },
  {
   "cell_type": "code",
   "execution_count": 34,
   "metadata": {
    "scrolled": false
   },
   "outputs": [],
   "source": [
    "f_train = os.path.join(dir_data, 'train.csv')\n",
    "f_trainLabels=os.path.join(dir_data, 'trainLabels.csv')\n",
    "f_test=os.path.join(dir_data, 'test.csv')\n",
    "data = pd.read_csv(f_train, header = None)\n",
    "target = pd.read_csv(f_trainLabels, header = None)\n",
    "test = pd.read_csv(f_test, header = None)\n"
   ]
  },
  {
   "cell_type": "code",
   "execution_count": 35,
   "metadata": {},
   "outputs": [],
   "source": [
    "# 切分訓練集/測試集\n",
    "x_train, x_test, y_train, y_test = train_test_split(data, target, test_size=0.2, random_state=4)"
   ]
  },
  {
   "cell_type": "code",
   "execution_count": 36,
   "metadata": {},
   "outputs": [
    {
     "data": {
      "text/plain": [
       "((800, 40), (200, 40), (800, 1), (200, 1))"
      ]
     },
     "execution_count": 36,
     "metadata": {},
     "output_type": "execute_result"
    }
   ],
   "source": [
    "x_train.shape, x_test.shape, y_train.shape, y_test.shape"
   ]
  },
  {
   "cell_type": "code",
   "execution_count": 37,
   "metadata": {},
   "outputs": [
    {
     "name": "stderr",
     "output_type": "stream",
     "text": [
      "C:\\Users\\Rebecca\\Anaconda3\\lib\\site-packages\\ipykernel_launcher.py:5: DataConversionWarning: A column-vector y was passed when a 1d array was expected. Please change the shape of y to (n_samples,), for example using ravel().\n",
      "  \"\"\"\n"
     ]
    }
   ],
   "source": [
    "# 建立模型 (使用 20 顆樹，每棵樹的最大深度為 4)\n",
    "clf = RandomForestClassifier(n_estimators=20, max_depth=4)\n",
    "\n",
    "# 訓練模型\n",
    "clf.fit(x_train, y_train)\n",
    "\n",
    "# 預測測試集\n",
    "y_pred = clf.predict(x_test)\n",
    "#clf"
   ]
  },
  {
   "cell_type": "code",
   "execution_count": 38,
   "metadata": {},
   "outputs": [
    {
     "name": "stdout",
     "output_type": "stream",
     "text": [
      "Accuracy:  0.84\n"
     ]
    }
   ],
   "source": [
    "acc = metrics.accuracy_score(y_test, y_pred)\n",
    "print(\"Accuracy: \", acc)\n"
   ]
  },
  {
   "cell_type": "code",
   "execution_count": 39,
   "metadata": {},
   "outputs": [],
   "source": [
    "y_real=clf.predict(test)"
   ]
  },
  {
   "cell_type": "code",
   "execution_count": 41,
   "metadata": {},
   "outputs": [
    {
     "data": {
      "text/plain": [
       "array([1, 0, 0, ..., 1, 0, 1], dtype=int64)"
      ]
     },
     "execution_count": 41,
     "metadata": {},
     "output_type": "execute_result"
    }
   ],
   "source": [
    "y_real\n"
   ]
  },
  {
   "cell_type": "code",
   "execution_count": 42,
   "metadata": {},
   "outputs": [
    {
     "data": {
      "text/plain": [
       "9000"
      ]
     },
     "execution_count": 42,
     "metadata": {},
     "output_type": "execute_result"
    }
   ],
   "source": [
    "len(y_real)"
   ]
  },
  {
   "cell_type": "code",
   "execution_count": 58,
   "metadata": {},
   "outputs": [],
   "source": [
    "output=pd.DataFrame(y_real)\n",
    "\n",
    "\n",
    "output.index += 1  \n",
    "\n",
    "output.columns = ['Solution']\n",
    "output['Id'] = np.arange(1,output.shape[0]+1)\n",
    "output = output[['Id', 'Solution']]\n",
    "\n"
   ]
  },
  {
   "cell_type": "code",
   "execution_count": 59,
   "metadata": {},
   "outputs": [
    {
     "data": {
      "text/plain": [
       "<bound method NDFrame.head of         Id  Solution\n",
       "1        1         1\n",
       "2        2         0\n",
       "3        3         0\n",
       "4        4         0\n",
       "5        5         0\n",
       "6        6         0\n",
       "7        7         0\n",
       "8        8         1\n",
       "9        9         0\n",
       "10      10         0\n",
       "11      11         1\n",
       "12      12         1\n",
       "13      13         1\n",
       "14      14         0\n",
       "15      15         0\n",
       "16      16         1\n",
       "17      17         0\n",
       "18      18         1\n",
       "19      19         0\n",
       "20      20         1\n",
       "21      21         0\n",
       "22      22         1\n",
       "23      23         0\n",
       "24      24         0\n",
       "25      25         1\n",
       "26      26         1\n",
       "27      27         1\n",
       "28      28         0\n",
       "29      29         1\n",
       "30      30         0\n",
       "...    ...       ...\n",
       "8971  8971         1\n",
       "8972  8972         0\n",
       "8973  8973         1\n",
       "8974  8974         1\n",
       "8975  8975         0\n",
       "8976  8976         1\n",
       "8977  8977         0\n",
       "8978  8978         1\n",
       "8979  8979         1\n",
       "8980  8980         1\n",
       "8981  8981         1\n",
       "8982  8982         1\n",
       "8983  8983         1\n",
       "8984  8984         0\n",
       "8985  8985         0\n",
       "8986  8986         1\n",
       "8987  8987         0\n",
       "8988  8988         0\n",
       "8989  8989         1\n",
       "8990  8990         0\n",
       "8991  8991         0\n",
       "8992  8992         1\n",
       "8993  8993         0\n",
       "8994  8994         1\n",
       "8995  8995         1\n",
       "8996  8996         1\n",
       "8997  8997         1\n",
       "8998  8998         1\n",
       "8999  8999         0\n",
       "9000  9000         1\n",
       "\n",
       "[9000 rows x 2 columns]>"
      ]
     },
     "execution_count": 59,
     "metadata": {},
     "output_type": "execute_result"
    }
   ],
   "source": [
    "output.head"
   ]
  },
  {
   "cell_type": "code",
   "execution_count": 56,
   "metadata": {},
   "outputs": [
    {
     "data": {
      "text/plain": [
       "(9000, 2)"
      ]
     },
     "execution_count": 56,
     "metadata": {},
     "output_type": "execute_result"
    }
   ],
   "source": [
    "output.shape"
   ]
  },
  {
   "cell_type": "code",
   "execution_count": 57,
   "metadata": {},
   "outputs": [],
   "source": [
    "output.to_csv('Tom1.csv',index=False)"
   ]
  },
  {
   "cell_type": "code",
   "execution_count": null,
   "metadata": {},
   "outputs": [],
   "source": []
  }
 ],
 "metadata": {
  "kernelspec": {
   "display_name": "Python 3",
   "language": "python",
   "name": "python3"
  },
  "language_info": {
   "codemirror_mode": {
    "name": "ipython",
    "version": 3
   },
   "file_extension": ".py",
   "mimetype": "text/x-python",
   "name": "python",
   "nbconvert_exporter": "python",
   "pygments_lexer": "ipython3",
   "version": "3.7.3"
  }
 },
 "nbformat": 4,
 "nbformat_minor": 2
}
