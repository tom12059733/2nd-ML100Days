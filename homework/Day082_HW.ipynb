{
 "cells": [
  {
   "cell_type": "markdown",
   "metadata": {},
   "source": [
    "## Work\n",
    "1. 請比較使用不同層數以及不同 Dropout rate 對訓練的效果\n",
    "2. 將 optimizer 改成使用 Adam 並加上適當的 dropout rate 檢視結果"
   ]
  },
  {
   "cell_type": "code",
   "execution_count": 32,
   "metadata": {},
   "outputs": [],
   "source": [
    "import os\n",
    "import keras\n",
    "import itertools\n",
    "# Disable GPU\n",
    "os.environ[\"CUDA_VISIBLE_DEVICES\"] = \"\""
   ]
  },
  {
   "cell_type": "code",
   "execution_count": 33,
   "metadata": {},
   "outputs": [],
   "source": [
    "train, test = keras.datasets.cifar10.load_data()"
   ]
  },
  {
   "cell_type": "code",
   "execution_count": 34,
   "metadata": {},
   "outputs": [],
   "source": [
    "## 資料前處理\n",
    "def preproc_x(x, flatten=True):\n",
    "    x = x / 255.\n",
    "    if flatten:\n",
    "        x = x.reshape((len(x), -1))\n",
    "    return x\n",
    "\n",
    "def preproc_y(y, num_classes=10):\n",
    "    if y.shape[-1] == 1:\n",
    "        y = keras.utils.to_categorical(y, num_classes)\n",
    "    return y    "
   ]
  },
  {
   "cell_type": "code",
   "execution_count": 35,
   "metadata": {},
   "outputs": [],
   "source": [
    "x_train, y_train = train\n",
    "x_test, y_test = test\n",
    "\n",
    "# Preproc the inputs\n",
    "x_train = preproc_x(x_train)\n",
    "x_test = preproc_x(x_test)\n",
    "\n",
    "# Preprc the outputs\n",
    "y_train = preproc_y(y_train)\n",
    "y_test = preproc_y(y_test)"
   ]
  },
  {
   "cell_type": "code",
   "execution_count": 36,
   "metadata": {},
   "outputs": [],
   "source": [
    "from keras.layers import Dropout\n",
    "\n",
    "\"\"\"\n",
    "建立神經網路，並加入 dropout layer\n",
    "\"\"\"\n",
    "def build_mlp(input_shape, output_units=10, num_neurons=[512, 256, 128], drp_ratio=0.2):\n",
    "    input_layer = keras.layers.Input(input_shape)\n",
    "    \n",
    "    for i, n_units in enumerate(num_neurons):\n",
    "        if i == 0:\n",
    "            x = keras.layers.Dense(units=n_units, \n",
    "                                   activation=\"relu\", \n",
    "                                   name=\"hidden_layer\"+str(i+1))(input_layer)\n",
    "            x = Dropout(drp_ratio)(x)\n",
    "        else:\n",
    "            x = keras.layers.Dense(units=n_units, \n",
    "                                   activation=\"relu\", \n",
    "                                   name=\"hidden_layer\"+str(i+1))(x)\n",
    "            x = Dropout(drp_ratio)(x)\n",
    "    \n",
    "    out = keras.layers.Dense(units=output_units, activation=\"softmax\", name=\"output\")(x)\n",
    "    \n",
    "    model = keras.models.Model(inputs=[input_layer], outputs=[out])\n",
    "    return model"
   ]
  },
  {
   "cell_type": "code",
   "execution_count": 37,
   "metadata": {},
   "outputs": [],
   "source": [
    "## 超參數設定\n",
    "LEARNING_RATE = 1e-4\n",
    "EPOCHS = 50\n",
    "BATCH_SIZE = 256\n",
    "# MOMENTUM = 0.95\n",
    "Dropout_EXP = 0.5"
   ]
  },
  {
   "cell_type": "code",
   "execution_count": 38,
   "metadata": {
    "scrolled": true
   },
   "outputs": [
    {
     "name": "stdout",
     "output_type": "stream",
     "text": [
      "_________________________________________________________________\n",
      "Layer (type)                 Output Shape              Param #   \n",
      "=================================================================\n",
      "input_5 (InputLayer)         (None, 3072)              0         \n",
      "_________________________________________________________________\n",
      "hidden_layer1 (Dense)        (None, 512)               1573376   \n",
      "_________________________________________________________________\n",
      "dropout_13 (Dropout)         (None, 512)               0         \n",
      "_________________________________________________________________\n",
      "hidden_layer2 (Dense)        (None, 256)               131328    \n",
      "_________________________________________________________________\n",
      "dropout_14 (Dropout)         (None, 256)               0         \n",
      "_________________________________________________________________\n",
      "hidden_layer3 (Dense)        (None, 128)               32896     \n",
      "_________________________________________________________________\n",
      "dropout_15 (Dropout)         (None, 128)               0         \n",
      "_________________________________________________________________\n",
      "output (Dense)               (None, 10)                1290      \n",
      "=================================================================\n",
      "Total params: 1,738,890\n",
      "Trainable params: 1,738,890\n",
      "Non-trainable params: 0\n",
      "_________________________________________________________________\n",
      "Train on 50000 samples, validate on 10000 samples\n",
      "Epoch 1/50\n",
      "50000/50000 [==============================] - 4s 70us/step - loss: 2.2897 - acc: 0.1418 - val_loss: 2.1545 - val_acc: 0.2536\n",
      "Epoch 2/50\n",
      "50000/50000 [==============================] - 3s 60us/step - loss: 2.1452 - acc: 0.2004 - val_loss: 2.0071 - val_acc: 0.2907\n",
      "Epoch 3/50\n",
      "50000/50000 [==============================] - 3s 60us/step - loss: 2.0544 - acc: 0.2413 - val_loss: 1.9139 - val_acc: 0.3254\n",
      "Epoch 4/50\n",
      "50000/50000 [==============================] - 3s 60us/step - loss: 1.9943 - acc: 0.2681 - val_loss: 1.8789 - val_acc: 0.3405\n",
      "Epoch 5/50\n",
      "50000/50000 [==============================] - 3s 60us/step - loss: 1.9697 - acc: 0.2794 - val_loss: 1.8313 - val_acc: 0.3558\n",
      "Epoch 6/50\n",
      "50000/50000 [==============================] - 3s 59us/step - loss: 1.9336 - acc: 0.2985 - val_loss: 1.8032 - val_acc: 0.3692\n",
      "Epoch 7/50\n",
      "50000/50000 [==============================] - 3s 58us/step - loss: 1.9046 - acc: 0.3073 - val_loss: 1.7692 - val_acc: 0.3781\n",
      "Epoch 8/50\n",
      "50000/50000 [==============================] - 3s 58us/step - loss: 1.8781 - acc: 0.3192 - val_loss: 1.7507 - val_acc: 0.3927\n",
      "Epoch 9/50\n",
      "50000/50000 [==============================] - 3s 58us/step - loss: 1.8588 - acc: 0.3273 - val_loss: 1.7298 - val_acc: 0.3844\n",
      "Epoch 10/50\n",
      "50000/50000 [==============================] - 3s 58us/step - loss: 1.8468 - acc: 0.3323 - val_loss: 1.7091 - val_acc: 0.4049- loss: 1.8493 - acc\n",
      "Epoch 11/50\n",
      "50000/50000 [==============================] - 3s 58us/step - loss: 1.8325 - acc: 0.3414 - val_loss: 1.7015 - val_acc: 0.3996\n",
      "Epoch 12/50\n",
      "50000/50000 [==============================] - 3s 58us/step - loss: 1.8169 - acc: 0.3462 - val_loss: 1.6943 - val_acc: 0.4077\n",
      "Epoch 13/50\n",
      "50000/50000 [==============================] - 3s 58us/step - loss: 1.8048 - acc: 0.3522 - val_loss: 1.6799 - val_acc: 0.4135\n",
      "Epoch 14/50\n",
      "50000/50000 [==============================] - 3s 60us/step - loss: 1.7922 - acc: 0.3542 - val_loss: 1.6633 - val_acc: 0.4198\n",
      "Epoch 15/50\n",
      "50000/50000 [==============================] - 3s 60us/step - loss: 1.7817 - acc: 0.3614 - val_loss: 1.6406 - val_acc: 0.4252\n",
      "Epoch 16/50\n",
      "50000/50000 [==============================] - 3s 58us/step - loss: 1.7721 - acc: 0.3656 - val_loss: 1.6460 - val_acc: 0.4161\n",
      "Epoch 17/50\n",
      "50000/50000 [==============================] - 3s 57us/step - loss: 1.7591 - acc: 0.3692 - val_loss: 1.6271 - val_acc: 0.4244\n",
      "Epoch 18/50\n",
      "50000/50000 [==============================] - 3s 58us/step - loss: 1.7474 - acc: 0.3749 - val_loss: 1.6129 - val_acc: 0.4404\n",
      "Epoch 19/50\n",
      "50000/50000 [==============================] - 3s 59us/step - loss: 1.7397 - acc: 0.3769 - val_loss: 1.6188 - val_acc: 0.4348\n",
      "Epoch 20/50\n",
      "50000/50000 [==============================] - 3s 59us/step - loss: 1.7302 - acc: 0.3797 - val_loss: 1.6062 - val_acc: 0.4293\n",
      "Epoch 21/50\n",
      "50000/50000 [==============================] - 3s 58us/step - loss: 1.7162 - acc: 0.3874 - val_loss: 1.5830 - val_acc: 0.4458\n",
      "Epoch 22/50\n",
      "50000/50000 [==============================] - 3s 58us/step - loss: 1.7105 - acc: 0.3893 - val_loss: 1.5903 - val_acc: 0.4361\n",
      "Epoch 23/50\n",
      "50000/50000 [==============================] - 3s 58us/step - loss: 1.7075 - acc: 0.3864 - val_loss: 1.5630 - val_acc: 0.4507\n",
      "Epoch 24/50\n",
      "50000/50000 [==============================] - 3s 58us/step - loss: 1.6941 - acc: 0.3948 - val_loss: 1.5629 - val_acc: 0.4486\n",
      "Epoch 25/50\n",
      "50000/50000 [==============================] - 3s 58us/step - loss: 1.6878 - acc: 0.3950 - val_loss: 1.5615 - val_acc: 0.4523\n",
      "Epoch 26/50\n",
      "50000/50000 [==============================] - 3s 59us/step - loss: 1.6894 - acc: 0.3932 - val_loss: 1.5700 - val_acc: 0.4454\n",
      "Epoch 27/50\n",
      "50000/50000 [==============================] - 3s 58us/step - loss: 1.6802 - acc: 0.4011 - val_loss: 1.5635 - val_acc: 0.4560\n",
      "Epoch 28/50\n",
      "50000/50000 [==============================] - 3s 60us/step - loss: 1.6738 - acc: 0.4002 - val_loss: 1.5415 - val_acc: 0.4517\n",
      "Epoch 29/50\n",
      "50000/50000 [==============================] - 3s 59us/step - loss: 1.6674 - acc: 0.4033 - val_loss: 1.5460 - val_acc: 0.4532\n",
      "Epoch 30/50\n",
      "50000/50000 [==============================] - 3s 58us/step - loss: 1.6655 - acc: 0.4042 - val_loss: 1.5418 - val_acc: 0.4606\n",
      "Epoch 31/50\n",
      "50000/50000 [==============================] - 3s 58us/step - loss: 1.6560 - acc: 0.4067 - val_loss: 1.5331 - val_acc: 0.4601\n",
      "Epoch 32/50\n",
      "50000/50000 [==============================] - 3s 58us/step - loss: 1.6456 - acc: 0.4098 - val_loss: 1.5205 - val_acc: 0.4606\n",
      "Epoch 33/50\n",
      "50000/50000 [==============================] - 3s 58us/step - loss: 1.6412 - acc: 0.4143 - val_loss: 1.5248 - val_acc: 0.4549 2s - loss: 1 - ETA: 1s - loss: 1\n",
      "Epoch 34/50\n",
      "50000/50000 [==============================] - 3s 58us/step - loss: 1.6322 - acc: 0.4141 - val_loss: 1.5192 - val_acc: 0.4645\n",
      "Epoch 35/50\n",
      "50000/50000 [==============================] - 3s 58us/step - loss: 1.6326 - acc: 0.4150 - val_loss: 1.5175 - val_acc: 0.4662\n",
      "Epoch 36/50\n",
      "50000/50000 [==============================] - 3s 58us/step - loss: 1.6264 - acc: 0.4175 - val_loss: 1.5086 - val_acc: 0.4665\n",
      "Epoch 37/50\n",
      "50000/50000 [==============================] - 3s 58us/step - loss: 1.6223 - acc: 0.4203 - val_loss: 1.5024 - val_acc: 0.4647\n",
      "Epoch 38/50\n",
      "50000/50000 [==============================] - 3s 58us/step - loss: 1.6187 - acc: 0.4179 - val_loss: 1.5029 - val_acc: 0.4675\n",
      "Epoch 39/50\n",
      "50000/50000 [==============================] - 3s 58us/step - loss: 1.6155 - acc: 0.4228 - val_loss: 1.4982 - val_acc: 0.4698\n",
      "Epoch 40/50\n",
      "50000/50000 [==============================] - 3s 58us/step - loss: 1.6125 - acc: 0.4226 - val_loss: 1.4939 - val_acc: 0.4681\n",
      "Epoch 41/50\n",
      "50000/50000 [==============================] - 3s 58us/step - loss: 1.6067 - acc: 0.4274 - val_loss: 1.4941 - val_acc: 0.4665\n",
      "Epoch 42/50\n",
      "50000/50000 [==============================] - 3s 58us/step - loss: 1.6075 - acc: 0.4228 - val_loss: 1.4924 - val_acc: 0.4773\n",
      "Epoch 43/50\n",
      "50000/50000 [==============================] - 3s 58us/step - loss: 1.5999 - acc: 0.4267 - val_loss: 1.4758 - val_acc: 0.4775\n",
      "Epoch 44/50\n",
      "50000/50000 [==============================] - 3s 58us/step - loss: 1.5966 - acc: 0.4265 - val_loss: 1.4893 - val_acc: 0.4713\n",
      "Epoch 45/50\n",
      "50000/50000 [==============================] - 3s 58us/step - loss: 1.5891 - acc: 0.4322 - val_loss: 1.4878 - val_acc: 0.4698\n",
      "Epoch 46/50\n",
      "50000/50000 [==============================] - 3s 58us/step - loss: 1.5882 - acc: 0.4334 - val_loss: 1.4730 - val_acc: 0.4736\n",
      "Epoch 47/50\n",
      "50000/50000 [==============================] - 3s 58us/step - loss: 1.5867 - acc: 0.4313 - val_loss: 1.4674 - val_acc: 0.4800\n",
      "Epoch 48/50\n",
      "50000/50000 [==============================] - 3s 58us/step - loss: 1.5799 - acc: 0.4331 - val_loss: 1.4691 - val_acc: 0.4811\n",
      "Epoch 49/50\n"
     ]
    },
    {
     "name": "stdout",
     "output_type": "stream",
     "text": [
      "50000/50000 [==============================] - 3s 58us/step - loss: 1.5733 - acc: 0.4372 - val_loss: 1.4569 - val_acc: 0.4763\n",
      "Epoch 50/50\n",
      "50000/50000 [==============================] - 3s 58us/step - loss: 1.5679 - acc: 0.4422 - val_loss: 1.4716 - val_acc: 0.4736\n"
     ]
    }
   ],
   "source": [
    "model = build_mlp(input_shape=x_train.shape[1:], drp_ratio=Dropout_EXP)\n",
    "model.summary()\n",
    "\n",
    "#optimizer = keras.optimizers.SGD(lr=LEARNING_RATE, nesterov=True, momentum=MOMENTUM)\n",
    "optimizer = keras.optimizers.Adam(lr=LEARNING_RATE)\n",
    "    \n",
    "model.compile(loss=\"categorical_crossentropy\", metrics=[\"accuracy\"], optimizer=optimizer)\n",
    "\n",
    "model.fit(x_train, y_train, \n",
    "          epochs=EPOCHS, \n",
    "          batch_size=BATCH_SIZE, \n",
    "          validation_data=(x_test, y_test), \n",
    "          shuffle=True)\n",
    "\n",
    "# Collect results\n",
    "train_loss = model.history.history[\"loss\"]\n",
    "valid_loss = model.history.history[\"val_loss\"]\n",
    "train_acc = model.history.history[\"acc\"]\n",
    "valid_acc = model.history.history[\"val_acc\"]"
   ]
  },
  {
   "cell_type": "code",
   "execution_count": 39,
   "metadata": {},
   "outputs": [
    {
     "data": {
      "image/png": "[encoded data removed]",
      "text/plain": [
       "<Figure size 432x288 with 1 Axes>"
      ]
     },
     "metadata": {
      "needs_background": "light"
     },
     "output_type": "display_data"
    },
    {
     "data": {
      "image/png": "[encoded data removed]",
      "text/plain": [
       "<Figure size 432x288 with 1 Axes>"
      ]
     },
     "metadata": {
      "needs_background": "light"
     },
     "output_type": "display_data"
    }
   ],
   "source": [
    "import matplotlib.pyplot as plt\n",
    "%matplotlib inline\n",
    "\n",
    "plt.plot(range(len(train_loss)), train_loss, label=\"train loss\")\n",
    "plt.plot(range(len(valid_loss)), valid_loss, label=\"valid loss\")\n",
    "plt.legend()\n",
    "plt.title(\"Loss\")\n",
    "plt.show()\n",
    "\n",
    "plt.plot(range(len(train_acc)), train_acc, label=\"train accuracy\")\n",
    "plt.plot(range(len(valid_acc)), valid_acc, label=\"valid accuracy\")\n",
    "plt.legend()\n",
    "plt.title(\"Accuracy\")\n",
    "plt.show()"
   ]
  },
  {
   "cell_type": "code",
   "execution_count": null,
   "metadata": {},
   "outputs": [],
   "source": []
  }
 ],
 "metadata": {
  "kernelspec": {
   "display_name": "Python 3",
   "language": "python",
   "name": "python3"
  },
  "language_info": {
   "codemirror_mode": {
    "name": "ipython",
    "version": 3
   },
   "file_extension": ".py",
   "mimetype": "text/x-python",
   "name": "python",
   "nbconvert_exporter": "python",
   "pygments_lexer": "ipython3",
   "version": "3.7.1"
  }
 },
 "nbformat": 4,
 "nbformat_minor": 2
}
