{
 "cells": [
  {
   "cell_type": "markdown",
   "metadata": {},
   "source": [
    "## 練習時間\n",
    "相信大家對回歸問題及分類問題都有初步的了解。今天的作業希望大家搜尋有關 multi-label 的案例問題。下圖是電影 \"奇異博士\" 的分類。可以看到同時有 \"Action\", \"Adventure\", \"Fantasy\" 的類別存在，代表這是個多標籤的問題。 "
   ]
  },
  {
   "cell_type": "markdown",
   "metadata": {},
   "source": [
    "![image](https://cdn-images-1.medium.com/max/1000/1*r0gYXMSQf5VhdMyl2bRDyg.png)"
   ]
  },
  {
   "cell_type": "markdown",
   "metadata": {},
   "source": [
    "## 請搜尋目標為多標籤問題 (Multi-label) 的機器學習案例，了解其資料來源、目標以及評估指標為何\n",
    "## Hint: 服飾"
   ]
  },
  {
   "cell_type": "code",
   "execution_count": null,
   "metadata": {},
   "outputs": [],
   "source": [
    "'''\n",
    "案例：Kaggle競賽\n",
    "一個針對來自希臘印刷媒體的文章的多標籤分類競賽\n",
    "https://www.kaggle.com/c/wise-2014/overview\n",
    "\n",
    "目標：\n",
    "1。構建一個多標籤分類器，藉由相關性順序建議，將文章自動註釋到含所有主題的列表，來幫助人工註釋的工作。\n",
    "2。構建一個容易預測媒體和/或類別的自化分類程序。\n",
    "\n",
    "資料來源：\n",
    "原始數據來自印刷媒體的掃描，文章分割和光學文字分割等，含有很多雜訊。\n",
    "\n",
    "評估指標：\n",
    "評估指標是平均F1指標，愈高愈好。\n",
    "\n",
    "https://www.kaggle.com/c/wise-2014/overview/evaluation\n",
    "The evaluation metric for this competition is Mean F1-Score also known as example-based F-measure in the multi-label learning literature. \n",
    "The F1 score, commonly used in information retrieval, measures accuracy using the statistics precision p and recall r. \n",
    "Precision is the ratio of true positives (tp) to all predicted positives (tp + fp). \n",
    "Recall is the ratio of true positives to all actual positives (tp + fn). \n",
    "\n",
    "The F1 score is given by:\n",
    "F1=2(p⋅r)/(p+r)  where  p=tp/(tp+fp),  r=tp/(tp+fn)\n",
    "\n",
    "The F1 metric weights recall and precision equally, and a good retrieval algorithm will maximize both precision and recall simultaneously. \n",
    "Thus, moderately good performance on both will be favored over extremely good performance on one and poor performance on the other.\n",
    "'''"
   ]
  }
 ],
 "metadata": {
  "kernelspec": {
   "display_name": "Python 3",
   "language": "python",
   "name": "python3"
  },
  "language_info": {
   "codemirror_mode": {
    "name": "ipython",
    "version": 3
   },
   "file_extension": ".py",
   "mimetype": "text/x-python",
   "name": "python",
   "nbconvert_exporter": "python",
   "pygments_lexer": "ipython3",
   "version": "3.7.1"
  }
 },
 "nbformat": 4,
 "nbformat_minor": 2
}
