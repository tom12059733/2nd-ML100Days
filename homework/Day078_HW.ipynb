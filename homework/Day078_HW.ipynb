{
 "cells": [
  {
   "cell_type": "markdown",
   "metadata": {},
   "source": [
    "## Work\n",
    "1. 請嘗試將 preproc_x 替換成以每筆資料的 min/max 進行標準化至 -1 ~ 1 間，再進行訓練\n",
    "2. 請嘗試將 mlp 疊更深 (e.g 5~10 層)，進行訓練後觀察 learning curve 的走勢\n",
    "3. (optional) 請改用 GPU 進行訓練 (如果你有 GPU 的話)，比較使用 CPU 與 GPU 的訓練速度"
   ]
  },
  {
   "cell_type": "code",
   "execution_count": 1,
   "metadata": {},
   "outputs": [
    {
     "data": {
      "text/plain": [
       "'\\nYour code here (optional)\\n確認硬體資源\\n'"
      ]
     },
     "execution_count": 1,
     "metadata": {},
     "output_type": "execute_result"
    }
   ],
   "source": [
    "## \n",
    "\"\"\"\n",
    "Your code here (optional)\n",
    "確認硬體資源\n",
    "\"\"\"\n"
   ]
  },
  {
   "cell_type": "code",
   "execution_count": 2,
   "metadata": {},
   "outputs": [
    {
     "name": "stderr",
     "output_type": "stream",
     "text": [
      "Using TensorFlow backend.\n"
     ]
    }
   ],
   "source": [
    "import os\n",
    "import keras\n",
    "import numpy as np\n",
    "\n",
    "# 請嘗試設定 GPU：os.environ\n"
   ]
  },
  {
   "cell_type": "code",
   "execution_count": 3,
   "metadata": {},
   "outputs": [],
   "source": [
    "train, test = keras.datasets.cifar10.load_data()"
   ]
  },
  {
   "cell_type": "code",
   "execution_count": 4,
   "metadata": {},
   "outputs": [],
   "source": [
    "## 資料前處理\n",
    "\"\"\"\n",
    "Your code here\n",
    "\"\"\"\n",
    "def preproc_x(x, flatten=True):\n",
    "    x= 2 * (( x - np.min(x) ) / ( np.max(x) - np.min(x) ) - 0.5)\n",
    "    if flatten:\n",
    "        x = x.reshape((len(x), -1))\n",
    "    return x\n",
    "\n",
    "def preproc_y(y, num_classes=10):\n",
    "    if y.shape[-1] == 1:\n",
    "        y = keras.utils.to_categorical(y, num_classes)\n",
    "    return y   "
   ]
  },
  {
   "cell_type": "code",
   "execution_count": 5,
   "metadata": {},
   "outputs": [],
   "source": [
    "x_train, y_train = train\n",
    "x_test, y_test = test\n",
    "\n",
    "# Preproc the inputs\n",
    "x_train = preproc_x(x_train)\n",
    "x_test = preproc_x(x_test)\n",
    "\n",
    "# Preprc the outputs\n",
    "y_train = preproc_y(y_train)\n",
    "y_test = preproc_y(y_test)"
   ]
  },
  {
   "cell_type": "code",
   "execution_count": 6,
   "metadata": {},
   "outputs": [],
   "source": [
    "\"\"\"Code Here\n",
    "建立你的神經網路\n",
    "\"\"\"\n",
    "def build_mlp(input_shape, output_units=10, num_neurons=[1024, 512, 256, 128, 64, 32, 16, 8]):\n",
    "    input_layer = keras.layers.Input(input_shape)\n",
    "    \n",
    "    for i, n_units in enumerate(num_neurons):\n",
    "        if i == 0:\n",
    "            x = keras.layers.Dense(units=n_units, activation=\"relu\", name=\"hidden_layer\"+str(i+1))(input_layer)\n",
    "        else:\n",
    "            x = keras.layers.Dense(units=n_units, activation=\"relu\", name=\"hidden_layer\"+str(i+1))(x)\n",
    "    \n",
    "    out = keras.layers.Dense(units=output_units, activation=\"softmax\", name=\"output\")(x)\n",
    "    \n",
    "    model = keras.models.Model(inputs=[input_layer], outputs=[out])\n",
    "    return model"
   ]
  },
  {
   "cell_type": "code",
   "execution_count": 7,
   "metadata": {},
   "outputs": [
    {
     "name": "stdout",
     "output_type": "stream",
     "text": [
      "WARNING:tensorflow:From C:\\Users\\TOM\\Anaconda3\\lib\\site-packages\\tensorflow\\python\\framework\\op_def_library.py:263: colocate_with (from tensorflow.python.framework.ops) is deprecated and will be removed in a future version.\n",
      "Instructions for updating:\n",
      "Colocations handled automatically by placer.\n",
      "_________________________________________________________________\n",
      "Layer (type)                 Output Shape              Param #   \n",
      "=================================================================\n",
      "input_1 (InputLayer)         (None, 3072)              0         \n",
      "_________________________________________________________________\n",
      "hidden_layer1 (Dense)        (None, 1024)              3146752   \n",
      "_________________________________________________________________\n",
      "hidden_layer2 (Dense)        (None, 512)               524800    \n",
      "_________________________________________________________________\n",
      "hidden_layer3 (Dense)        (None, 256)               131328    \n",
      "_________________________________________________________________\n",
      "hidden_layer4 (Dense)        (None, 128)               32896     \n",
      "_________________________________________________________________\n",
      "hidden_layer5 (Dense)        (None, 64)                8256      \n",
      "_________________________________________________________________\n",
      "hidden_layer6 (Dense)        (None, 32)                2080      \n",
      "_________________________________________________________________\n",
      "hidden_layer7 (Dense)        (None, 16)                528       \n",
      "_________________________________________________________________\n",
      "hidden_layer8 (Dense)        (None, 8)                 136       \n",
      "_________________________________________________________________\n",
      "output (Dense)               (None, 10)                90        \n",
      "=================================================================\n",
      "Total params: 3,846,866\n",
      "Trainable params: 3,846,866\n",
      "Non-trainable params: 0\n",
      "_________________________________________________________________\n"
     ]
    }
   ],
   "source": [
    "model = build_mlp(input_shape=x_train.shape[1:])\n",
    "model.summary()"
   ]
  },
  {
   "cell_type": "code",
   "execution_count": 8,
   "metadata": {},
   "outputs": [],
   "source": [
    "## 超參數設定\n",
    "LEARNING_RATE = 0.001\n",
    "EPOCHS = 100\n",
    "BATCH_SIZE = 256"
   ]
  },
  {
   "cell_type": "code",
   "execution_count": 9,
   "metadata": {},
   "outputs": [],
   "source": [
    "optimizer = keras.optimizers.Adam(lr=LEARNING_RATE)\n",
    "model.compile(loss=\"categorical_crossentropy\", metrics=[\"accuracy\"], optimizer=optimizer)"
   ]
  },
  {
   "cell_type": "code",
   "execution_count": 10,
   "metadata": {},
   "outputs": [
    {
     "name": "stdout",
     "output_type": "stream",
     "text": [
      "WARNING:tensorflow:From C:\\Users\\TOM\\Anaconda3\\lib\\site-packages\\tensorflow\\python\\ops\\math_ops.py:3066: to_int32 (from tensorflow.python.ops.math_ops) is deprecated and will be removed in a future version.\n",
      "Instructions for updating:\n",
      "Use tf.cast instead.\n",
      "Train on 50000 samples, validate on 10000 samples\n",
      "Epoch 1/100\n",
      "50000/50000 [==============================] - 6s 120us/step - loss: 1.9765 - acc: 0.2675 - val_loss: 1.7889 - val_acc: 0.3540\n",
      "Epoch 2/100\n",
      "50000/50000 [==============================] - 4s 90us/step - loss: 1.7077 - acc: 0.3948 - val_loss: 1.6296 - val_acc: 0.4248\n",
      "Epoch 3/100\n",
      "50000/50000 [==============================] - 5s 91us/step - loss: 1.5654 - acc: 0.4537 - val_loss: 1.5268 - val_acc: 0.4692\n",
      "Epoch 4/100\n",
      "50000/50000 [==============================] - 4s 89us/step - loss: 1.4406 - acc: 0.4969 - val_loss: 1.4620 - val_acc: 0.4857\n",
      "Epoch 5/100\n",
      "50000/50000 [==============================] - 4s 88us/step - loss: 1.3417 - acc: 0.5330 - val_loss: 1.4260 - val_acc: 0.5004\n",
      "Epoch 6/100\n",
      "50000/50000 [==============================] - 4s 87us/step - loss: 1.2496 - acc: 0.5631 - val_loss: 1.4033 - val_acc: 0.5142\n",
      "Epoch 7/100\n",
      "50000/50000 [==============================] - 4s 89us/step - loss: 1.1701 - acc: 0.5912 - val_loss: 1.3849 - val_acc: 0.5263\n",
      "Epoch 8/100\n",
      "50000/50000 [==============================] - 4s 88us/step - loss: 1.0842 - acc: 0.6198 - val_loss: 1.4031 - val_acc: 0.5280\n",
      "Epoch 9/100\n",
      "50000/50000 [==============================] - 4s 87us/step - loss: 1.0099 - acc: 0.6440 - val_loss: 1.4075 - val_acc: 0.5322\n",
      "Epoch 10/100\n",
      "50000/50000 [==============================] - 4s 89us/step - loss: 0.9313 - acc: 0.6708 - val_loss: 1.4371 - val_acc: 0.5288\n",
      "Epoch 11/100\n",
      "50000/50000 [==============================] - 4s 88us/step - loss: 0.8508 - acc: 0.6982 - val_loss: 1.4973 - val_acc: 0.5383\n",
      "Epoch 12/100\n",
      "50000/50000 [==============================] - 4s 88us/step - loss: 0.7819 - acc: 0.7227 - val_loss: 1.5346 - val_acc: 0.5322\n",
      "Epoch 13/100\n",
      "50000/50000 [==============================] - 4s 88us/step - loss: 0.7283 - acc: 0.7405 - val_loss: 1.6022 - val_acc: 0.5405\n",
      "Epoch 14/100\n",
      "50000/50000 [==============================] - 4s 87us/step - loss: 0.6513 - acc: 0.7661 - val_loss: 1.6955 - val_acc: 0.5403\n",
      "Epoch 15/100\n",
      "50000/50000 [==============================] - 4s 87us/step - loss: 0.5900 - acc: 0.7875 - val_loss: 1.7916 - val_acc: 0.5390\n",
      "Epoch 16/100\n",
      "50000/50000 [==============================] - 4s 88us/step - loss: 0.5433 - acc: 0.8047 - val_loss: 1.8144 - val_acc: 0.5399: 0s - loss: 0.5396 - a\n",
      "Epoch 17/100\n",
      "50000/50000 [==============================] - 5s 90us/step - loss: 0.4987 - acc: 0.8211 - val_loss: 1.9412 - val_acc: 0.5404\n",
      "Epoch 18/100\n",
      "50000/50000 [==============================] - 4s 87us/step - loss: 0.4544 - acc: 0.8379 - val_loss: 1.9983 - val_acc: 0.5410\n",
      "Epoch 19/100\n",
      "50000/50000 [==============================] - 4s 87us/step - loss: 0.4103 - acc: 0.8545 - val_loss: 2.0515 - val_acc: 0.5325\n",
      "Epoch 20/100\n",
      "50000/50000 [==============================] - 4s 87us/step - loss: 0.3817 - acc: 0.8644 - val_loss: 2.2277 - val_acc: 0.5351\n",
      "Epoch 21/100\n",
      "50000/50000 [==============================] - 4s 87us/step - loss: 0.3456 - acc: 0.8777 - val_loss: 2.3097 - val_acc: 0.5334\n",
      "Epoch 22/100\n",
      "50000/50000 [==============================] - 4s 87us/step - loss: 0.3102 - acc: 0.8912 - val_loss: 2.4218 - val_acc: 0.5356\n",
      "Epoch 23/100\n",
      "50000/50000 [==============================] - 4s 87us/step - loss: 0.2900 - acc: 0.8989 - val_loss: 2.3719 - val_acc: 0.5299\n",
      "Epoch 24/100\n",
      "50000/50000 [==============================] - 4s 88us/step - loss: 0.2764 - acc: 0.9025 - val_loss: 2.4371 - val_acc: 0.5397 loss: 0.270\n",
      "Epoch 25/100\n",
      "50000/50000 [==============================] - 4s 89us/step - loss: 0.2501 - acc: 0.9118 - val_loss: 2.5542 - val_acc: 0.5391\n",
      "Epoch 26/100\n",
      "50000/50000 [==============================] - 4s 89us/step - loss: 0.2285 - acc: 0.9202 - val_loss: 2.5676 - val_acc: 0.5379\n",
      "Epoch 27/100\n",
      "50000/50000 [==============================] - 4s 89us/step - loss: 0.2322 - acc: 0.9204 - val_loss: 2.6058 - val_acc: 0.5348\n",
      "Epoch 28/100\n",
      "50000/50000 [==============================] - 4s 89us/step - loss: 0.2118 - acc: 0.9277 - val_loss: 2.8143 - val_acc: 0.5341\n",
      "Epoch 29/100\n",
      "50000/50000 [==============================] - 4s 90us/step - loss: 0.1913 - acc: 0.9336 - val_loss: 2.8259 - val_acc: 0.5291\n",
      "Epoch 30/100\n",
      "50000/50000 [==============================] - 4s 87us/step - loss: 0.1868 - acc: 0.9368 - val_loss: 2.8447 - val_acc: 0.5372\n",
      "Epoch 31/100\n",
      "50000/50000 [==============================] - 4s 87us/step - loss: 0.1919 - acc: 0.9347 - val_loss: 2.8878 - val_acc: 0.5409\n",
      "Epoch 32/100\n",
      "50000/50000 [==============================] - 4s 87us/step - loss: 0.1629 - acc: 0.9440 - val_loss: 2.9402 - val_acc: 0.5342\n",
      "Epoch 33/100\n",
      "50000/50000 [==============================] - 4s 87us/step - loss: 0.1806 - acc: 0.9395 - val_loss: 2.8689 - val_acc: 0.5329\n",
      "Epoch 34/100\n",
      "50000/50000 [==============================] - 4s 87us/step - loss: 0.1617 - acc: 0.9456 - val_loss: 2.9041 - val_acc: 0.5330\n",
      "Epoch 35/100\n",
      "50000/50000 [==============================] - 4s 87us/step - loss: 0.1410 - acc: 0.9525 - val_loss: 3.1728 - val_acc: 0.5368\n",
      "Epoch 36/100\n",
      "50000/50000 [==============================] - 4s 87us/step - loss: 0.1493 - acc: 0.9509 - val_loss: 3.0739 - val_acc: 0.5369\n",
      "Epoch 37/100\n",
      "50000/50000 [==============================] - 4s 87us/step - loss: 0.1320 - acc: 0.9557 - val_loss: 3.0777 - val_acc: 0.5336\n",
      "Epoch 38/100\n",
      "50000/50000 [==============================] - 4s 87us/step - loss: 0.1381 - acc: 0.9537 - val_loss: 3.0650 - val_acc: 0.5329\n",
      "Epoch 39/100\n",
      "50000/50000 [==============================] - 4s 87us/step - loss: 0.1331 - acc: 0.9553 - val_loss: 3.2520 - val_acc: 0.5390\n",
      "Epoch 40/100\n",
      "50000/50000 [==============================] - 4s 87us/step - loss: 0.1291 - acc: 0.9575 - val_loss: 3.1850 - val_acc: 0.5385\n",
      "Epoch 41/100\n",
      "50000/50000 [==============================] - 4s 87us/step - loss: 0.1205 - acc: 0.9599 - val_loss: 3.1183 - val_acc: 0.5373\n",
      "Epoch 42/100\n",
      "50000/50000 [==============================] - 4s 87us/step - loss: 0.1178 - acc: 0.9618 - val_loss: 3.0723 - val_acc: 0.5430\n",
      "Epoch 43/100\n",
      "50000/50000 [==============================] - 4s 87us/step - loss: 0.1136 - acc: 0.9631 - val_loss: 3.0621 - val_acc: 0.5367\n",
      "Epoch 44/100\n",
      "50000/50000 [==============================] - 4s 87us/step - loss: 0.1075 - acc: 0.9645 - val_loss: 3.2324 - val_acc: 0.5387\n",
      "Epoch 45/100\n",
      "50000/50000 [==============================] - 4s 87us/step - loss: 0.1075 - acc: 0.9652 - val_loss: 3.2376 - val_acc: 0.5455\n",
      "Epoch 46/100\n",
      "50000/50000 [==============================] - 4s 87us/step - loss: 0.1081 - acc: 0.9640 - val_loss: 3.1445 - val_acc: 0.5342\n",
      "Epoch 47/100\n",
      "50000/50000 [==============================] - 4s 87us/step - loss: 0.1107 - acc: 0.9632 - val_loss: 3.1757 - val_acc: 0.5417\n",
      "Epoch 48/100\n",
      "50000/50000 [==============================] - 4s 87us/step - loss: 0.1088 - acc: 0.9651 - val_loss: 3.1519 - val_acc: 0.5377\n",
      "Epoch 49/100\n",
      "50000/50000 [==============================] - 4s 90us/step - loss: 0.0912 - acc: 0.9712 - val_loss: 3.3388 - val_acc: 0.5353\n",
      "Epoch 50/100\n",
      "50000/50000 [==============================] - 4s 88us/step - loss: 0.1033 - acc: 0.9661 - val_loss: 3.3467 - val_acc: 0.5382\n",
      "Epoch 51/100\n",
      "50000/50000 [==============================] - 4s 88us/step - loss: 0.0927 - acc: 0.9703 - val_loss: 3.2353 - val_acc: 0.5487c: 0.970\n",
      "Epoch 52/100\n",
      "50000/50000 [==============================] - 4s 88us/step - loss: 0.0964 - acc: 0.9690 - val_loss: 3.2275 - val_acc: 0.5442\n",
      "Epoch 53/100\n",
      "50000/50000 [==============================] - 4s 87us/step - loss: 0.0847 - acc: 0.9723 - val_loss: 3.3210 - val_acc: 0.5429\n",
      "Epoch 54/100\n",
      "50000/50000 [==============================] - 4s 87us/step - loss: 0.0857 - acc: 0.9728 - val_loss: 3.2598 - val_acc: 0.5386\n",
      "Epoch 55/100\n",
      "50000/50000 [==============================] - 4s 88us/step - loss: 0.0868 - acc: 0.9718 - val_loss: 3.3111 - val_acc: 0.5356\n",
      "Epoch 56/100\n",
      "50000/50000 [==============================] - 4s 90us/step - loss: 0.0922 - acc: 0.9704 - val_loss: 3.3242 - val_acc: 0.5360\n",
      "Epoch 57/100\n"
     ]
    },
    {
     "name": "stdout",
     "output_type": "stream",
     "text": [
      "50000/50000 [==============================] - 5s 90us/step - loss: 0.0945 - acc: 0.9700 - val_loss: 3.1867 - val_acc: 0.5455\n",
      "Epoch 58/100\n",
      "50000/50000 [==============================] - 4s 90us/step - loss: 0.0833 - acc: 0.9740 - val_loss: 3.3983 - val_acc: 0.5351\n",
      "Epoch 59/100\n",
      "50000/50000 [==============================] - 4s 89us/step - loss: 0.0828 - acc: 0.9741 - val_loss: 3.2556 - val_acc: 0.5409\n",
      "Epoch 60/100\n",
      "50000/50000 [==============================] - 4s 87us/step - loss: 0.0826 - acc: 0.9734 - val_loss: 3.2101 - val_acc: 0.5370\n",
      "Epoch 61/100\n",
      "50000/50000 [==============================] - 4s 87us/step - loss: 0.0872 - acc: 0.9728 - val_loss: 3.2739 - val_acc: 0.5369\n",
      "Epoch 62/100\n",
      "50000/50000 [==============================] - 4s 87us/step - loss: 0.0723 - acc: 0.9771 - val_loss: 3.3196 - val_acc: 0.5455\n",
      "Epoch 63/100\n",
      "50000/50000 [==============================] - 4s 87us/step - loss: 0.0777 - acc: 0.9757 - val_loss: 3.3298 - val_acc: 0.5480\n",
      "Epoch 64/100\n",
      "50000/50000 [==============================] - 4s 88us/step - loss: 0.0914 - acc: 0.9715 - val_loss: 3.0630 - val_acc: 0.5374\n",
      "Epoch 65/100\n",
      "50000/50000 [==============================] - 5s 91us/step - loss: 0.0695 - acc: 0.9774 - val_loss: 3.4292 - val_acc: 0.5473\n",
      "Epoch 66/100\n",
      "50000/50000 [==============================] - 4s 89us/step - loss: 0.0698 - acc: 0.9777 - val_loss: 3.4171 - val_acc: 0.5383\n",
      "Epoch 67/100\n",
      "50000/50000 [==============================] - 4s 89us/step - loss: 0.0771 - acc: 0.9753 - val_loss: 3.3703 - val_acc: 0.5391\n",
      "Epoch 68/100\n",
      "50000/50000 [==============================] - 4s 89us/step - loss: 0.0714 - acc: 0.9782 - val_loss: 3.2881 - val_acc: 0.5452\n",
      "Epoch 69/100\n",
      "50000/50000 [==============================] - 4s 89us/step - loss: 0.0750 - acc: 0.9761 - val_loss: 3.3726 - val_acc: 0.5433\n",
      "Epoch 70/100\n",
      "50000/50000 [==============================] - 4s 87us/step - loss: 0.0730 - acc: 0.9765 - val_loss: 3.3840 - val_acc: 0.5472\n",
      "Epoch 71/100\n",
      "50000/50000 [==============================] - 4s 87us/step - loss: 0.0637 - acc: 0.9805 - val_loss: 3.3445 - val_acc: 0.5464\n",
      "Epoch 72/100\n",
      "50000/50000 [==============================] - 4s 88us/step - loss: 0.0664 - acc: 0.9794 - val_loss: 3.3820 - val_acc: 0.5405\n",
      "Epoch 73/100\n",
      "50000/50000 [==============================] - 4s 87us/step - loss: 0.0626 - acc: 0.9810 - val_loss: 3.5328 - val_acc: 0.5412\n",
      "Epoch 74/100\n",
      "50000/50000 [==============================] - 4s 87us/step - loss: 0.0748 - acc: 0.9769 - val_loss: 3.2242 - val_acc: 0.5404\n",
      "Epoch 75/100\n",
      "50000/50000 [==============================] - 4s 87us/step - loss: 0.0618 - acc: 0.9807 - val_loss: 3.4503 - val_acc: 0.5441\n",
      "Epoch 76/100\n",
      "50000/50000 [==============================] - 4s 87us/step - loss: 0.0625 - acc: 0.9799 - val_loss: 3.3939 - val_acc: 0.5405\n",
      "Epoch 77/100\n",
      "50000/50000 [==============================] - 4s 87us/step - loss: 0.0727 - acc: 0.9780 - val_loss: 3.5448 - val_acc: 0.5439\n",
      "Epoch 78/100\n",
      "50000/50000 [==============================] - 4s 87us/step - loss: 0.0612 - acc: 0.9808 - val_loss: 3.4003 - val_acc: 0.5446\n",
      "Epoch 79/100\n",
      "50000/50000 [==============================] - 4s 87us/step - loss: 0.0508 - acc: 0.9840 - val_loss: 3.5187 - val_acc: 0.5451\n",
      "Epoch 80/100\n",
      "50000/50000 [==============================] - 4s 88us/step - loss: 0.0580 - acc: 0.9822 - val_loss: 3.3011 - val_acc: 0.5351\n",
      "Epoch 81/100\n",
      "50000/50000 [==============================] - 4s 88us/step - loss: 0.0658 - acc: 0.9796 - val_loss: 3.4945 - val_acc: 0.5443\n",
      "Epoch 82/100\n",
      "50000/50000 [==============================] - 4s 90us/step - loss: 0.0687 - acc: 0.9786 - val_loss: 3.3027 - val_acc: 0.5386\n",
      "Epoch 83/100\n",
      "50000/50000 [==============================] - 4s 87us/step - loss: 0.0696 - acc: 0.9788 - val_loss: 3.3206 - val_acc: 0.5381\n",
      "Epoch 84/100\n",
      "50000/50000 [==============================] - 5s 91us/step - loss: 0.0589 - acc: 0.9827 - val_loss: 3.3987 - val_acc: 0.5429\n",
      "Epoch 85/100\n",
      "50000/50000 [==============================] - 5s 92us/step - loss: 0.0593 - acc: 0.9819 - val_loss: 3.4117 - val_acc: 0.5421\n",
      "Epoch 86/100\n",
      "50000/50000 [==============================] - 4s 87us/step - loss: 0.0631 - acc: 0.9806 - val_loss: 3.4219 - val_acc: 0.5409\n",
      "Epoch 87/100\n",
      "50000/50000 [==============================] - 4s 87us/step - loss: 0.0491 - acc: 0.9846 - val_loss: 3.5208 - val_acc: 0.5420\n",
      "Epoch 88/100\n",
      "50000/50000 [==============================] - 4s 89us/step - loss: 0.0653 - acc: 0.9803 - val_loss: 3.3032 - val_acc: 0.5421\n",
      "Epoch 89/100\n",
      "50000/50000 [==============================] - 4s 87us/step - loss: 0.0576 - acc: 0.9820 - val_loss: 3.3427 - val_acc: 0.5489\n",
      "Epoch 90/100\n",
      "50000/50000 [==============================] - 4s 87us/step - loss: 0.0481 - acc: 0.9857 - val_loss: 3.4064 - val_acc: 0.5409\n",
      "Epoch 91/100\n",
      "50000/50000 [==============================] - 4s 87us/step - loss: 0.0502 - acc: 0.9844 - val_loss: 3.4566 - val_acc: 0.5431\n",
      "Epoch 92/100\n",
      "50000/50000 [==============================] - 4s 87us/step - loss: 0.0591 - acc: 0.9817 - val_loss: 3.3748 - val_acc: 0.5356\n",
      "Epoch 93/100\n",
      "50000/50000 [==============================] - 4s 87us/step - loss: 0.0591 - acc: 0.9818 - val_loss: 3.2769 - val_acc: 0.5419\n",
      "Epoch 94/100\n",
      "50000/50000 [==============================] - 4s 87us/step - loss: 0.0587 - acc: 0.9825 - val_loss: 3.2393 - val_acc: 0.5411\n",
      "Epoch 95/100\n",
      "50000/50000 [==============================] - 4s 88us/step - loss: 0.0468 - acc: 0.9860 - val_loss: 3.4532 - val_acc: 0.5459\n",
      "Epoch 96/100\n",
      "50000/50000 [==============================] - 4s 89us/step - loss: 0.0512 - acc: 0.9848 - val_loss: 3.3927 - val_acc: 0.5392\n",
      "Epoch 97/100\n",
      "50000/50000 [==============================] - 4s 89us/step - loss: 0.0649 - acc: 0.9801 - val_loss: 3.2243 - val_acc: 0.5451\n",
      "Epoch 98/100\n",
      "50000/50000 [==============================] - 4s 87us/step - loss: 0.0371 - acc: 0.9882 - val_loss: 3.4189 - val_acc: 0.5424\n",
      "Epoch 99/100\n",
      "50000/50000 [==============================] - 5s 90us/step - loss: 0.0536 - acc: 0.9841 - val_loss: 3.2115 - val_acc: 0.5395\n",
      "Epoch 100/100\n",
      "50000/50000 [==============================] - 4s 88us/step - loss: 0.0548 - acc: 0.9836 - val_loss: 3.3085 - val_acc: 0.5443\n"
     ]
    },
    {
     "data": {
      "text/plain": [
       "<keras.callbacks.History at 0x2d05efe24a8>"
      ]
     },
     "execution_count": 10,
     "metadata": {},
     "output_type": "execute_result"
    }
   ],
   "source": [
    "model.fit(x_train, y_train, \n",
    "          epochs=EPOCHS, \n",
    "          batch_size=BATCH_SIZE, \n",
    "          validation_data=(x_test, y_test), \n",
    "          shuffle=True)"
   ]
  },
  {
   "cell_type": "code",
   "execution_count": 12,
   "metadata": {},
   "outputs": [
    {
     "data": {
      "image/png": "[encoded data removed]",
      "text/plain": [
       "<Figure size 432x288 with 1 Axes>"
      ]
     },
     "metadata": {
      "needs_background": "light"
     },
     "output_type": "display_data"
    },
    {
     "data": {
      "image/png": "[encoded data removed]",
      "text/plain": [
       "<Figure size 432x288 with 1 Axes>"
      ]
     },
     "metadata": {
      "needs_background": "light"
     },
     "output_type": "display_data"
    }
   ],
   "source": [
    "import matplotlib.pyplot as plt\n",
    "\n",
    "\n",
    "train_loss = model.history.history[\"loss\"]\n",
    "valid_loss = model.history.history[\"val_loss\"]\n",
    "\n",
    "train_acc = model.history.history[\"acc\"]\n",
    "valid_acc = model.history.history[\"val_acc\"]\n",
    "\n",
    "plt.plot(range(len(train_loss)), train_loss, label=\"train loss\")\n",
    "plt.plot(range(len(valid_loss)), valid_loss, label=\"valid loss\")\n",
    "plt.legend()\n",
    "plt.title(\"Loss\")\n",
    "plt.show()\n",
    "\n",
    "plt.plot(range(len(train_acc)), train_acc, label=\"train accuracy\")\n",
    "plt.plot(range(len(valid_acc)), valid_acc, label=\"valid accuracy\")\n",
    "plt.legend()\n",
    "plt.title(\"Accuracy\")\n",
    "plt.show()"
   ]
  },
  {
   "cell_type": "code",
   "execution_count": null,
   "metadata": {},
   "outputs": [],
   "source": []
  }
 ],
 "metadata": {
  "kernelspec": {
   "display_name": "Python 3",
   "language": "python",
   "name": "python3"
  },
  "language_info": {
   "codemirror_mode": {
    "name": "ipython",
    "version": 3
   },
   "file_extension": ".py",
   "mimetype": "text/x-python",
   "name": "python",
   "nbconvert_exporter": "python",
   "pygments_lexer": "ipython3",
   "version": "3.7.1"
  }
 },
 "nbformat": 4,
 "nbformat_minor": 2
}
