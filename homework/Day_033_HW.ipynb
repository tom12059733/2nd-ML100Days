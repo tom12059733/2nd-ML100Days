{
 "cells": [
  {
   "cell_type": "markdown",
   "metadata": {},
   "source": [
    "## 練習時間"
   ]
  },
  {
   "cell_type": "markdown",
   "metadata": {},
   "source": [
    "請觀看李宏毅教授以神奇寶貝進化 CP 值預測的範例，解說何謂機器學習與過擬合。並回答以下問題"
   ]
  },
  {
   "cell_type": "markdown",
   "metadata": {},
   "source": [
    "[youtube](https://www.youtube.com/watch?v=fegAeph9UaA)"
   ]
  },
  {
   "cell_type": "markdown",
   "metadata": {},
   "source": [
    "# 1. 模型的泛化能力 (generalization) 是指什麼？ \n"
   ]
  },
  {
   "cell_type": "code",
   "execution_count": null,
   "metadata": {},
   "outputs": [],
   "source": [
    "#所謂泛化能力(generalization ability)是指機器學習演算法對新鮮樣本的適應能力。\n",
    "#學習的目的是學到隱含在資料對背後的規律，對具有同一規律的學習集以外的資料，經過訓練的網路也能給出合適的輸出，該能力稱為泛化能力。\n",
    "#以上資料來自華人百科\n",
    "# https://www.itsfun.com.tw/%E6%B3%9B%E5%8C%96%E8%83%BD%E5%8A%9B/wiki-5265414-4640593\n",
    "\n",
    "#如果對照李教授的影片，可說明如果我們建了一個好模型(Loss小)，就能透過機械學習準確預測寶可夢進化後的 cp值"
   ]
  },
  {
   "cell_type": "markdown",
   "metadata": {},
   "source": [
    "# 2. 分類問題與回歸問題分別可用的目標函數有哪些？"
   ]
  },
  {
   "cell_type": "code",
   "execution_count": null,
   "metadata": {},
   "outputs": [],
   "source": [
    "#李教授的影片中並未提到這些內容\n",
    "#從網站上可查到相關資料如下\n",
    "#\n",
    "#\n",
    "#以下資料來源「台部落」(機器學習中的目標函數分析)\n",
    "#https://www.twblogs.net/a/5c188f10bd9eee5e41847a50\n",
    "#\n",
    "#機器學習分爲四大塊，分別是 classification (分類)， regression (迴歸), clustering (聚類),  dimensionality reduction (降維)\n",
    "#\n",
    "#給定一個樣本特徵 , 我們希望預測其對應的屬性值 , 如果屬性值是離散的, 那麼這就是一個分類問題，\n",
    "#反之，如果是連續的實數, 這就是一個迴歸問題。\n",
    "#如果給定一組樣本特徵 , 我們沒有對應的屬性值 , 而是想發掘這組樣本在  維空間的分佈, 比如分析哪些樣本靠的更近，哪些樣本之間離得很遠, 這就是屬於聚類問題。\n",
    "#如果我們想用維數更低的子空間來表示原來高維的特徵空間, 那麼這就是降維問題\n",
    "#\n",
    "#使用在迴歸問題最常用以下損失函數做為預測準確與否之判斷(愈小愈好)\n",
    "#平均絕對誤差——L1損失函數(L_mae)\n",
    "#均方誤差——L2損失函數 (L_mse)\n",
    "#Huber 損失，平滑的平均絕對誤差\n",
    "#……\n",
    "#\n",
    "#以下資料來源「知乎」(常见回归和分类损失函数比较)\n",
    "#https://zhuanlan.zhihu.com/p/36431289\n",
    "#分類問題用的目標函數常見有以下\n",
    "#0-1损失 (zero-one loss)\n",
    "#Logistic loss(为Logistic Regression中使用的损失函数)\n",
    "#Hinge loss\n",
    "#指数损失(Exponential loss)\n",
    "#modified Huber loss\n"
   ]
  }
 ],
 "metadata": {
  "kernelspec": {
   "display_name": "Python 3",
   "language": "python",
   "name": "python3"
  },
  "language_info": {
   "codemirror_mode": {
    "name": "ipython",
    "version": 3
   },
   "file_extension": ".py",
   "mimetype": "text/x-python",
   "name": "python",
   "nbconvert_exporter": "python",
   "pygments_lexer": "ipython3",
   "version": "3.7.3"
  }
 },
 "nbformat": 4,
 "nbformat_minor": 2
}
