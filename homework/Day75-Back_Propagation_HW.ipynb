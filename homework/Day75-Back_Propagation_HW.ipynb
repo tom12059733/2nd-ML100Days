{
 "cells": [
  {
   "cell_type": "markdown",
   "metadata": {},
   "source": [
    "# 作業目標:\n",
    "\n",
    "    通過建立多層的神經網路, 了解權值矩陣更新"
   ]
  },
  {
   "cell_type": "markdown",
   "metadata": {},
   "source": [
    "# 作業重點: \n",
    "\n",
    "3  層神經網路\n",
    "\n",
    "通過增加更多的中間層，以對更多關係的組合進行建模\n",
    "\n",
    "syn1 權值矩陣將隱層的組合輸出映射到最終結果，\n",
    "\n",
    "而在更新 syn1 的同時，還需要更新 syn0 權值矩陣，\n",
    "\n",
    "以從輸入資料中更好地產生這些組合"
   ]
  },
  {
   "cell_type": "code",
   "execution_count": 15,
   "metadata": {},
   "outputs": [],
   "source": [
    "import numpy as np\n",
    " \n",
    "# Sigmoid 函數可以將任何值都映射到一個位於 0 到  1 範圍內的值。通過它，我們可以將實數轉化為概率值\n",
    "def nonlin(x,deriv=False):\n",
    "    if(deriv==True):\n",
    "        return x*(1-x)\n",
    "    return 1/(1+np.exp(-x))\n",
    "\n",
    "X = np.array([  [0,0,1],\n",
    "                [0,1,1],\n",
    "                [1,0,1],\n",
    "                [1,1,1] ])  \n",
    "        \n",
    "# define y for output dataset            \n",
    "y = np.array([[0,0,1,1]]).T"
   ]
  },
  {
   "cell_type": "code",
   "execution_count": 16,
   "metadata": {},
   "outputs": [],
   "source": [
    "\n",
    "# seed random numbers to make calculation\n",
    "# deterministic (just a good practice)\n",
    "np.random.seed(1)\n",
    "#亂數設定產生種子得到的權重初始化集仍是隨機分佈的，\n",
    "#但每次開始訓練時，得到的權重初始集分佈都是完全一致的。\n",
    " \n",
    "# initialize weights randomly with mean 0\n",
    "syn0 = 2*np.random.random((3,1)) - 1\n",
    "# define syn1\n",
    "syn1 = 2*np.random.random((3,1)) - 1\n",
    "\n",
    "\n",
    "iter = 0\n",
    "#該神經網路權重矩陣的初始化操作。\n",
    "#用 “syn0” 來代指 (即“輸入層-第一層隱層”間權重矩陣）\n",
    "#用 “syn1” 來代指 (即“輸入層-第二層隱層”間權重矩陣）\n",
    "\n",
    "syn0_history = [syn0]\n",
    "syn1_history = [syn1]"
   ]
  },
  {
   "cell_type": "markdown",
   "metadata": {},
   "source": [
    "神經網路訓練\n",
    "for 迴圈反覆運算式地多次執行訓練代碼，使得我們的網路能更好地擬合訓練集"
   ]
  },
  {
   "cell_type": "code",
   "execution_count": 17,
   "metadata": {},
   "outputs": [
    {
     "name": "stdout",
     "output_type": "stream",
     "text": [
      "Output After Training:\n",
      "[[0.00966449]\n",
      " [0.00786506]\n",
      " [0.99358898]\n",
      " [0.99211957]]\n",
      "\n",
      "\n",
      "\n",
      "[[0.00991183]\n",
      " [0.00779542]\n",
      " [0.99368775]\n",
      " [0.99197075]]\n"
     ]
    }
   ],
   "source": [
    "for iter in range(10000):\n",
    "    # forward propagation\n",
    "    l0 = X\n",
    "    l1 = nonlin(np.dot(l0,syn0))\n",
    "    \n",
    "    l2 = nonlin(np.dot(l0,syn1))\n",
    "    \n",
    "    '''\n",
    "    新增\n",
    "    l2_error 該值說明了神經網路預測時“丟失”的數目。\n",
    "    l2_delta 該值為經確信度加權後的神經網路的誤差，除了確信誤差很小時，它近似等於預測誤差。\n",
    "    '''\n",
    " \n",
    "    # how much did we miss?\n",
    "    l1_error = y - l1\n",
    " \n",
    "    # multiply how much we missed by the \n",
    "    # slope of the sigmoid at the values in l1\n",
    "    l1_delta = l1_error * nonlin(l1,True)\n",
    "    \n",
    "    # update weights\n",
    "    syn0 += np.dot(l0.T,l1_delta)\n",
    "     # syn1 update weights\n",
    "        \n",
    "    # how much did we miss?\n",
    "    l2_error = y - l1\n",
    " \n",
    "    # multiply how much we missed by the \n",
    "    # slope of the sigmoid at the values in l1\n",
    "    l2_delta = l2_error * nonlin(l2,True)\n",
    "    \n",
    "    # update weights\n",
    "    syn1 += np.dot(l0.T,l2_delta)\n",
    "     # syn1 update weights\n",
    "       \n",
    "print(\"Output After Training:\")\n",
    "print(l1)\n",
    "print(\"\\n\\n\")\n",
    "print(l2)"
   ]
  },
  {
   "cell_type": "code",
   "execution_count": 11,
   "metadata": {},
   "outputs": [
    {
     "data": {
      "image/png": "[encoded data removed]",
      "text/plain": [
       "<Figure size 432x288 with 1 Axes>"
      ]
     },
     "metadata": {
      "needs_background": "light"
     },
     "output_type": "display_data"
    }
   ],
   "source": [
    "import matplotlib.pyplot as plt\n",
    "%matplotlib inline \n",
    "#適用於 Jupyter Notebook, 宣告直接在cell 內印出執行結果\n",
    "\n",
    "plt.plot(syn0_history[0], ms=3, lw=1.5, color='black')\n",
    "plt.xlabel(r'$L1$', fontsize=16)\n",
    "plt.show()"
   ]
  },
  {
   "cell_type": "code",
   "execution_count": 18,
   "metadata": {},
   "outputs": [
    {
     "data": {
      "image/png": "[encoded data removed]",
      "text/plain": [
       "<Figure size 432x288 with 1 Axes>"
      ]
     },
     "metadata": {
      "needs_background": "light"
     },
     "output_type": "display_data"
    }
   ],
   "source": [
    "import matplotlib.pyplot as plt\n",
    "%matplotlib inline \n",
    "#適用於 Jupyter Notebook, 宣告直接在cell 內印出執行結果\n",
    "\n",
    "plt.plot(syn1_history[0], ms=3, lw=1.5, color='black')\n",
    "plt.xlabel(r'$L2$', fontsize=16)\n",
    "plt.show()"
   ]
  },
  {
   "cell_type": "code",
   "execution_count": null,
   "metadata": {},
   "outputs": [],
   "source": []
  }
 ],
 "metadata": {
  "kernelspec": {
   "display_name": "Python 3",
   "language": "python",
   "name": "python3"
  },
  "language_info": {
   "codemirror_mode": {
    "name": "ipython",
    "version": 3
   },
   "file_extension": ".py",
   "mimetype": "text/x-python",
   "name": "python",
   "nbconvert_exporter": "python",
   "pygments_lexer": "ipython3",
   "version": "3.7.1"
  }
 },
 "nbformat": 4,
 "nbformat_minor": 2
}
