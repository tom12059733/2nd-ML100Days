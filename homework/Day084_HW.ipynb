{
 "cells": [
  {
   "cell_type": "markdown",
   "metadata": {},
   "source": [
    "## Work\n",
    "### 請結合前面的知識與程式碼，比較不同的 regularization 的組合對訓練的結果與影響：如 dropout, regularizers, batch-normalization 等"
   ]
  },
  {
   "cell_type": "code",
   "execution_count": 1,
   "metadata": {},
   "outputs": [
    {
     "name": "stderr",
     "output_type": "stream",
     "text": [
      "Using TensorFlow backend.\n"
     ]
    }
   ],
   "source": [
    "import os\n",
    "import keras\n",
    "import itertools\n",
    "# Disable GPU\n",
    "os.environ[\"CUDA_VISIBLE_DEVICES\"] = \"\""
   ]
  },
  {
   "cell_type": "code",
   "execution_count": 2,
   "metadata": {},
   "outputs": [],
   "source": [
    "train, test = keras.datasets.cifar10.load_data()"
   ]
  },
  {
   "cell_type": "code",
   "execution_count": 3,
   "metadata": {},
   "outputs": [],
   "source": [
    "## 資料前處理\n",
    "def preproc_x(x, flatten=True):\n",
    "    x = x / 255.\n",
    "    if flatten:\n",
    "        x = x.reshape((len(x), -1))\n",
    "    return x\n",
    "\n",
    "def preproc_y(y, num_classes=10):\n",
    "    if y.shape[-1] == 1:\n",
    "        y = keras.utils.to_categorical(y, num_classes)\n",
    "    return y    "
   ]
  },
  {
   "cell_type": "code",
   "execution_count": 4,
   "metadata": {},
   "outputs": [],
   "source": [
    "x_train, y_train = train\n",
    "x_test, y_test = test\n",
    "\n",
    "# Preproc the inputs\n",
    "x_train = preproc_x(x_train)\n",
    "x_test = preproc_x(x_test)\n",
    "\n",
    "# Preprc the outputs\n",
    "y_train = preproc_y(y_train)\n",
    "y_test = preproc_y(y_test)"
   ]
  },
  {
   "cell_type": "code",
   "execution_count": 46,
   "metadata": {},
   "outputs": [],
   "source": [
    "from keras.layers import BatchNormalization\n",
    "from keras.regularizers import l1, l2, l1_l2\n",
    "from keras.layers import Dropout\n",
    "\n",
    "\"\"\"\n",
    "建立神經網路\n",
    "\"\"\"\n",
    "def build_mlp(input_shape, output_units=10, num_neurons=[512, 256, 128], l2_ratio=1e-4, drp_ratio=0.2):\n",
    "    input_layer = keras.layers.Input(input_shape)\n",
    "    \n",
    "    for i, n_units in enumerate(num_neurons):\n",
    "        if i == 0:\n",
    "            x = keras.layers.Dense(units=n_units, \n",
    "                                   activation=\"relu\", \n",
    "                                   name=\"hidden_layer\"+str(i+1),\n",
    "                                   kernel_regularizer=l2(l2_ratio))(input_layer)\n",
    "            x = BatchNormalization()(x)\n",
    "            x = Dropout(drp_ratio)(x)\n",
    "        else:\n",
    "            x = keras.layers.Dense(units=n_units, \n",
    "                                   activation=\"relu\", \n",
    "                                   name=\"hidden_layer\"+str(i+1),\n",
    "                                   kernel_regularizer=l2(l2_ratio))(x)\n",
    "            x = BatchNormalization()(x)\n",
    "            x = Dropout(drp_ratio)(x)\n",
    "\n",
    "    out = keras.layers.Dense(units=output_units, activation=\"softmax\", name=\"output\")(x)\n",
    "    \n",
    "    model = keras.models.Model(inputs=[input_layer], outputs=[out])\n",
    "    return model"
   ]
  },
  {
   "cell_type": "code",
   "execution_count": 47,
   "metadata": {},
   "outputs": [],
   "source": [
    "## 超參數設定\n",
    "LEARNING_RATE = 1e-3\n",
    "EPOCHS = 50\n",
    "BATCH_SIZE = 256\n",
    "MOMENTUM = 0.95\n"
   ]
  },
  {
   "cell_type": "code",
   "execution_count": 48,
   "metadata": {
    "scrolled": true
   },
   "outputs": [
    {
     "name": "stdout",
     "output_type": "stream",
     "text": [
      "_________________________________________________________________\n",
      "Layer (type)                 Output Shape              Param #   \n",
      "=================================================================\n",
      "input_13 (InputLayer)        (None, 3072)              0         \n",
      "_________________________________________________________________\n",
      "hidden_layer1 (Dense)        (None, 512)               1573376   \n",
      "_________________________________________________________________\n",
      "batch_normalization_32 (Batc (None, 512)               2048      \n",
      "_________________________________________________________________\n",
      "dropout_28 (Dropout)         (None, 512)               0         \n",
      "_________________________________________________________________\n",
      "hidden_layer2 (Dense)        (None, 256)               131328    \n",
      "_________________________________________________________________\n",
      "batch_normalization_33 (Batc (None, 256)               1024      \n",
      "_________________________________________________________________\n",
      "dropout_29 (Dropout)         (None, 256)               0         \n",
      "_________________________________________________________________\n",
      "hidden_layer3 (Dense)        (None, 128)               32896     \n",
      "_________________________________________________________________\n",
      "batch_normalization_34 (Batc (None, 128)               512       \n",
      "_________________________________________________________________\n",
      "dropout_30 (Dropout)         (None, 128)               0         \n",
      "_________________________________________________________________\n",
      "output (Dense)               (None, 10)                1290      \n",
      "=================================================================\n",
      "Total params: 1,742,474\n",
      "Trainable params: 1,740,682\n",
      "Non-trainable params: 1,792\n",
      "_________________________________________________________________\n",
      "Train on 50000 samples, validate on 10000 samples\n",
      "Epoch 1/50\n",
      "50000/50000 [==============================] - 5s 102us/step - loss: 2.3112 - acc: 0.2853 - val_loss: 1.8792 - val_acc: 0.3904\n",
      "Epoch 2/50\n",
      "50000/50000 [==============================] - 3s 64us/step - loss: 1.9573 - acc: 0.3655 - val_loss: 1.7730 - val_acc: 0.4178\n",
      "Epoch 3/50\n",
      "50000/50000 [==============================] - 3s 64us/step - loss: 1.8527 - acc: 0.3985 - val_loss: 1.7225 - val_acc: 0.4420\n",
      "Epoch 4/50\n",
      "50000/50000 [==============================] - 3s 64us/step - loss: 1.7910 - acc: 0.4158 - val_loss: 1.6892 - val_acc: 0.4463\n",
      "Epoch 5/50\n",
      "50000/50000 [==============================] - 3s 64us/step - loss: 1.7386 - acc: 0.4305 - val_loss: 1.6565 - val_acc: 0.4629\n",
      "Epoch 6/50\n",
      "50000/50000 [==============================] - 3s 64us/step - loss: 1.7022 - acc: 0.4440 - val_loss: 1.6288 - val_acc: 0.4723\n",
      "Epoch 7/50\n",
      "50000/50000 [==============================] - 3s 64us/step - loss: 1.6749 - acc: 0.4552 - val_loss: 1.6225 - val_acc: 0.4699\n",
      "Epoch 8/50\n",
      "50000/50000 [==============================] - 3s 63us/step - loss: 1.6540 - acc: 0.4608 - val_loss: 1.5972 - val_acc: 0.4840\n",
      "Epoch 9/50\n",
      "50000/50000 [==============================] - 3s 64us/step - loss: 1.6352 - acc: 0.4680 - val_loss: 1.5826 - val_acc: 0.4860\n",
      "Epoch 10/50\n",
      "50000/50000 [==============================] - 3s 64us/step - loss: 1.6193 - acc: 0.4757 - val_loss: 1.5896 - val_acc: 0.4886\n",
      "Epoch 11/50\n",
      "50000/50000 [==============================] - 3s 64us/step - loss: 1.5941 - acc: 0.4812 - val_loss: 1.5569 - val_acc: 0.4960\n",
      "Epoch 12/50\n",
      "50000/50000 [==============================] - 3s 64us/step - loss: 1.5870 - acc: 0.4848 - val_loss: 1.5690 - val_acc: 0.4871\n",
      "Epoch 13/50\n",
      "50000/50000 [==============================] - 3s 63us/step - loss: 1.5672 - acc: 0.4911 - val_loss: 1.5481 - val_acc: 0.4946\n",
      "Epoch 14/50\n",
      "50000/50000 [==============================] - 3s 63us/step - loss: 1.5553 - acc: 0.4950 - val_loss: 1.5442 - val_acc: 0.5000\n",
      "Epoch 15/50\n",
      "50000/50000 [==============================] - 3s 63us/step - loss: 1.5425 - acc: 0.4989 - val_loss: 1.5383 - val_acc: 0.5026\n",
      "Epoch 16/50\n",
      "50000/50000 [==============================] - 3s 63us/step - loss: 1.5329 - acc: 0.5006 - val_loss: 1.5340 - val_acc: 0.4997\n",
      "Epoch 17/50\n",
      "50000/50000 [==============================] - 3s 63us/step - loss: 1.5232 - acc: 0.5057 - val_loss: 1.5224 - val_acc: 0.5060\n",
      "Epoch 18/50\n",
      "50000/50000 [==============================] - 3s 63us/step - loss: 1.5099 - acc: 0.5107 - val_loss: 1.5150 - val_acc: 0.5052\n",
      "Epoch 19/50\n",
      "50000/50000 [==============================] - 3s 63us/step - loss: 1.5011 - acc: 0.5142 - val_loss: 1.5053 - val_acc: 0.5154\n",
      "Epoch 20/50\n",
      "50000/50000 [==============================] - 3s 64us/step - loss: 1.4923 - acc: 0.5135 - val_loss: 1.4950 - val_acc: 0.5153\n",
      "Epoch 21/50\n",
      "50000/50000 [==============================] - 3s 63us/step - loss: 1.4803 - acc: 0.5196 - val_loss: 1.5018 - val_acc: 0.5127\n",
      "Epoch 22/50\n",
      "50000/50000 [==============================] - 3s 63us/step - loss: 1.4707 - acc: 0.5231 - val_loss: 1.5357 - val_acc: 0.4997\n",
      "Epoch 23/50\n",
      "50000/50000 [==============================] - 3s 63us/step - loss: 1.4697 - acc: 0.5236 - val_loss: 1.4963 - val_acc: 0.5147\n",
      "Epoch 24/50\n",
      "50000/50000 [==============================] - 3s 63us/step - loss: 1.4586 - acc: 0.5264 - val_loss: 1.5165 - val_acc: 0.5097\n",
      "Epoch 25/50\n",
      "50000/50000 [==============================] - 3s 63us/step - loss: 1.4511 - acc: 0.5292 - val_loss: 1.4737 - val_acc: 0.5235\n",
      "Epoch 26/50\n",
      "50000/50000 [==============================] - 3s 63us/step - loss: 1.4430 - acc: 0.5321 - val_loss: 1.4702 - val_acc: 0.5167\n",
      "Epoch 27/50\n",
      "50000/50000 [==============================] - 3s 63us/step - loss: 1.4367 - acc: 0.5334 - val_loss: 1.4871 - val_acc: 0.5129\n",
      "Epoch 28/50\n",
      "50000/50000 [==============================] - 3s 63us/step - loss: 1.4298 - acc: 0.5370 - val_loss: 1.4932 - val_acc: 0.5163\n",
      "Epoch 29/50\n",
      "50000/50000 [==============================] - 3s 64us/step - loss: 1.4261 - acc: 0.5384 - val_loss: 1.5081 - val_acc: 0.5086\n",
      "Epoch 30/50\n",
      "50000/50000 [==============================] - 3s 63us/step - loss: 1.4217 - acc: 0.5380 - val_loss: 1.5012 - val_acc: 0.5166\n",
      "Epoch 31/50\n",
      "50000/50000 [==============================] - 3s 63us/step - loss: 1.4109 - acc: 0.5429 - val_loss: 1.4838 - val_acc: 0.5173\n",
      "Epoch 32/50\n",
      "50000/50000 [==============================] - 3s 63us/step - loss: 1.4055 - acc: 0.5461 - val_loss: 1.5233 - val_acc: 0.5060\n",
      "Epoch 33/50\n",
      "50000/50000 [==============================] - 3s 63us/step - loss: 1.3984 - acc: 0.5464 - val_loss: 1.5049 - val_acc: 0.5156\n",
      "Epoch 34/50\n",
      "50000/50000 [==============================] - 3s 63us/step - loss: 1.4048 - acc: 0.5452 - val_loss: 1.4767 - val_acc: 0.5264\n",
      "Epoch 35/50\n",
      "50000/50000 [==============================] - 3s 63us/step - loss: 1.3954 - acc: 0.5487 - val_loss: 1.5051 - val_acc: 0.5117\n",
      "Epoch 36/50\n",
      "50000/50000 [==============================] - 3s 63us/step - loss: 1.3890 - acc: 0.5492 - val_loss: 1.4831 - val_acc: 0.5265\n",
      "Epoch 37/50\n",
      "50000/50000 [==============================] - 3s 63us/step - loss: 1.3898 - acc: 0.5500 - val_loss: 1.4690 - val_acc: 0.5232\n",
      "Epoch 38/50\n",
      "50000/50000 [==============================] - 3s 63us/step - loss: 1.3822 - acc: 0.5535 - val_loss: 1.4763 - val_acc: 0.5212\n",
      "Epoch 39/50\n",
      "50000/50000 [==============================] - 3s 63us/step - loss: 1.3730 - acc: 0.5555 - val_loss: 1.4524 - val_acc: 0.5295\n",
      "Epoch 40/50\n",
      "50000/50000 [==============================] - 3s 63us/step - loss: 1.3685 - acc: 0.5589 - val_loss: 1.4792 - val_acc: 0.5178\n",
      "Epoch 41/50\n",
      "50000/50000 [==============================] - 3s 64us/step - loss: 1.3535 - acc: 0.5633 - val_loss: 1.4618 - val_acc: 0.5296\n",
      "Epoch 42/50\n",
      "50000/50000 [==============================] - 3s 63us/step - loss: 1.3533 - acc: 0.5657 - val_loss: 1.4666 - val_acc: 0.5258\n",
      "Epoch 43/50\n",
      "50000/50000 [==============================] - 3s 63us/step - loss: 1.3502 - acc: 0.5630 - val_loss: 1.4745 - val_acc: 0.5206\n",
      "Epoch 44/50\n",
      "50000/50000 [==============================] - 3s 64us/step - loss: 1.3420 - acc: 0.5660 - val_loss: 1.4835 - val_acc: 0.5167\n",
      "Epoch 45/50\n",
      "50000/50000 [==============================] - 3s 63us/step - loss: 1.3393 - acc: 0.5661 - val_loss: 1.4461 - val_acc: 0.5253\n",
      "Epoch 46/50\n",
      "50000/50000 [==============================] - 3s 64us/step - loss: 1.3383 - acc: 0.5683 - val_loss: 1.4763 - val_acc: 0.5193\n",
      "Epoch 47/50\n"
     ]
    },
    {
     "name": "stdout",
     "output_type": "stream",
     "text": [
      "50000/50000 [==============================] - 3s 63us/step - loss: 1.3233 - acc: 0.5717 - val_loss: 1.4722 - val_acc: 0.5190\n",
      "Epoch 48/50\n",
      "50000/50000 [==============================] - 3s 63us/step - loss: 1.3291 - acc: 0.5711 - val_loss: 1.4945 - val_acc: 0.5147\n",
      "Epoch 49/50\n",
      "50000/50000 [==============================] - 3s 63us/step - loss: 1.3300 - acc: 0.5710 - val_loss: 1.5221 - val_acc: 0.5055\n",
      "Epoch 50/50\n",
      "50000/50000 [==============================] - 3s 63us/step - loss: 1.3161 - acc: 0.5776 - val_loss: 1.5055 - val_acc: 0.5055\n"
     ]
    }
   ],
   "source": [
    "model = build_mlp(input_shape=x_train.shape[1:])\n",
    "model.summary()\n",
    "optimizer = keras.optimizers.SGD(lr=LEARNING_RATE, nesterov=True, momentum=MOMENTUM)\n",
    "model.compile(loss=\"categorical_crossentropy\", metrics=[\"accuracy\"], optimizer=optimizer)\n",
    "\n",
    "model.fit(x_train, y_train, \n",
    "          epochs=EPOCHS, \n",
    "          batch_size=BATCH_SIZE, \n",
    "          validation_data=(x_test, y_test), \n",
    "          shuffle=True)\n",
    "\n",
    "# Collect results\n",
    "train_loss = model.history.history[\"loss\"]\n",
    "valid_loss = model.history.history[\"val_loss\"]\n",
    "train_acc = model.history.history[\"acc\"]\n",
    "valid_acc = model.history.history[\"val_acc\"]"
   ]
  },
  {
   "cell_type": "code",
   "execution_count": 49,
   "metadata": {},
   "outputs": [
    {
     "data": {
      "image/png": "[encoded data removed]",
      "text/plain": [
       "<Figure size 432x288 with 1 Axes>"
      ]
     },
     "metadata": {
      "needs_background": "light"
     },
     "output_type": "display_data"
    },
    {
     "data": {
      "image/png": "[encoded data removed]",
      "text/plain": [
       "<Figure size 432x288 with 1 Axes>"
      ]
     },
     "metadata": {
      "needs_background": "light"
     },
     "output_type": "display_data"
    }
   ],
   "source": [
    "import matplotlib.pyplot as plt\n",
    "%matplotlib inline\n",
    "\n",
    "plt.plot(range(len(train_loss)), train_loss, label=\"train loss\")\n",
    "plt.plot(range(len(valid_loss)), valid_loss, label=\"valid loss\")\n",
    "plt.legend()\n",
    "plt.title(\"Loss\")\n",
    "plt.show()\n",
    "\n",
    "plt.plot(range(len(train_acc)), train_acc, label=\"train accuracy\")\n",
    "plt.plot(range(len(valid_acc)), valid_acc, label=\"valid accuracy\")\n",
    "plt.legend()\n",
    "plt.title(\"Accuracy\")\n",
    "plt.show()"
   ]
  },
  {
   "cell_type": "code",
   "execution_count": null,
   "metadata": {},
   "outputs": [],
   "source": [
    "# Drop ratio對validate acc幫助極大\n",
    "# Batch Size對Train acc幫助很大"
   ]
  }
 ],
 "metadata": {
  "kernelspec": {
   "display_name": "Python 3",
   "language": "python",
   "name": "python3"
  },
  "language_info": {
   "codemirror_mode": {
    "name": "ipython",
    "version": 3
   },
   "file_extension": ".py",
   "mimetype": "text/x-python",
   "name": "python",
   "nbconvert_exporter": "python",
   "pygments_lexer": "ipython3",
   "version": "3.7.1"
  }
 },
 "nbformat": 4,
 "nbformat_minor": 2
}
