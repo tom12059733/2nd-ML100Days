{
 "cells": [
  {
   "cell_type": "markdown",
   "metadata": {},
   "source": [
    "## Work\n",
    "1. 試比較 save_best_only 與否的差異\n",
    "2. 請僅存入將 save_weights_only 設定為 True, 並嘗試 reset ipynb 並將模型與權重重新建回並預測 x_test"
   ]
  },
  {
   "cell_type": "code",
   "execution_count": 1,
   "metadata": {},
   "outputs": [
    {
     "name": "stderr",
     "output_type": "stream",
     "text": [
      "Using TensorFlow backend.\n"
     ]
    }
   ],
   "source": [
    "import os\n",
    "import keras\n",
    "\n",
    "# Disable GPU\n",
    "os.environ[\"CUDA_VISIBLE_DEVICES\"] = \"\""
   ]
  },
  {
   "cell_type": "code",
   "execution_count": 2,
   "metadata": {},
   "outputs": [],
   "source": [
    "train, test = keras.datasets.cifar10.load_data()"
   ]
  },
  {
   "cell_type": "code",
   "execution_count": 3,
   "metadata": {},
   "outputs": [],
   "source": [
    "## 資料前處理\n",
    "def preproc_x(x, flatten=True):\n",
    "    x = x / 255.\n",
    "    if flatten:\n",
    "        x = x.reshape((len(x), -1))\n",
    "    return x\n",
    "\n",
    "def preproc_y(y, num_classes=10):\n",
    "    if y.shape[-1] == 1:\n",
    "        y = keras.utils.to_categorical(y, num_classes)\n",
    "    return y    "
   ]
  },
  {
   "cell_type": "code",
   "execution_count": 4,
   "metadata": {},
   "outputs": [],
   "source": [
    "x_train, y_train = train\n",
    "x_test, y_test = test\n",
    "\n",
    "# Preproc the inputs\n",
    "x_train = preproc_x(x_train)\n",
    "x_test = preproc_x(x_test)\n",
    "\n",
    "# Preprc the outputs\n",
    "y_train = preproc_y(y_train)\n",
    "y_test = preproc_y(y_test)"
   ]
  },
  {
   "cell_type": "code",
   "execution_count": 5,
   "metadata": {},
   "outputs": [],
   "source": [
    "from keras.layers import BatchNormalization\n",
    "\n",
    "\"\"\"\n",
    "建立神經網路，並加入 BN layer\n",
    "\"\"\"\n",
    "def build_mlp(input_shape, output_units=10, num_neurons=[512, 256, 128]):\n",
    "    input_layer = keras.layers.Input(input_shape)\n",
    "    \n",
    "    for i, n_units in enumerate(num_neurons):\n",
    "        if i == 0:\n",
    "            x = keras.layers.Dense(units=n_units, \n",
    "                                   activation=\"relu\", \n",
    "                                   name=\"hidden_layer\"+str(i+1))(input_layer)\n",
    "            x = BatchNormalization()(x)\n",
    "        else:\n",
    "            x = keras.layers.Dense(units=n_units, \n",
    "                                   activation=\"relu\", \n",
    "                                   name=\"hidden_layer\"+str(i+1))(x)\n",
    "            x = BatchNormalization()(x)\n",
    "    \n",
    "    out = keras.layers.Dense(units=output_units, activation=\"softmax\", name=\"output\")(x)\n",
    "    \n",
    "    model = keras.models.Model(inputs=[input_layer], outputs=[out])\n",
    "    return model"
   ]
  },
  {
   "cell_type": "code",
   "execution_count": 6,
   "metadata": {},
   "outputs": [],
   "source": [
    "## 超參數設定\n",
    "LEARNING_RATE = 1e-3\n",
    "EPOCHS = 50\n",
    "BATCH_SIZE = 1024\n",
    "MOMENTUM = 0.95"
   ]
  },
  {
   "cell_type": "code",
   "execution_count": 7,
   "metadata": {
    "scrolled": true
   },
   "outputs": [],
   "source": [
    "\"\"\"\n",
    "# 載入 Callbacks, 並將監控目標設為 validation loss, 且只存最佳參數時的模型\n",
    "\"\"\"\n",
    "from keras.callbacks import ModelCheckpoint\n",
    "\n",
    "model_ckpt = ModelCheckpoint(filepath=\"./tmp.h5\", \n",
    "                             monitor=\"val_loss\", \n",
    "                             save_best_only=False)"
   ]
  },
  {
   "cell_type": "code",
   "execution_count": 8,
   "metadata": {},
   "outputs": [
    {
     "name": "stdout",
     "output_type": "stream",
     "text": [
      "WARNING:tensorflow:From C:\\Users\\TOM\\Anaconda3\\lib\\site-packages\\tensorflow\\python\\framework\\op_def_library.py:263: colocate_with (from tensorflow.python.framework.ops) is deprecated and will be removed in a future version.\n",
      "Instructions for updating:\n",
      "Colocations handled automatically by placer.\n",
      "_________________________________________________________________\n",
      "Layer (type)                 Output Shape              Param #   \n",
      "=================================================================\n",
      "input_1 (InputLayer)         (None, 3072)              0         \n",
      "_________________________________________________________________\n",
      "hidden_layer1 (Dense)        (None, 512)               1573376   \n",
      "_________________________________________________________________\n",
      "batch_normalization_1 (Batch (None, 512)               2048      \n",
      "_________________________________________________________________\n",
      "hidden_layer2 (Dense)        (None, 256)               131328    \n",
      "_________________________________________________________________\n",
      "batch_normalization_2 (Batch (None, 256)               1024      \n",
      "_________________________________________________________________\n",
      "hidden_layer3 (Dense)        (None, 128)               32896     \n",
      "_________________________________________________________________\n",
      "batch_normalization_3 (Batch (None, 128)               512       \n",
      "_________________________________________________________________\n",
      "output (Dense)               (None, 10)                1290      \n",
      "=================================================================\n",
      "Total params: 1,742,474\n",
      "Trainable params: 1,740,682\n",
      "Non-trainable params: 1,792\n",
      "_________________________________________________________________\n",
      "WARNING:tensorflow:From C:\\Users\\TOM\\Anaconda3\\lib\\site-packages\\tensorflow\\python\\ops\\math_ops.py:3066: to_int32 (from tensorflow.python.ops.math_ops) is deprecated and will be removed in a future version.\n",
      "Instructions for updating:\n",
      "Use tf.cast instead.\n",
      "Train on 50000 samples, validate on 10000 samples\n",
      "Epoch 1/50\n",
      "50000/50000 [==============================] - 3s 68us/step - loss: 2.2083 - acc: 0.2723 - val_loss: 2.0088 - val_acc: 0.3445\n",
      "Epoch 2/50\n",
      "50000/50000 [==============================] - 2s 39us/step - loss: 1.7360 - acc: 0.3948 - val_loss: 1.7619 - val_acc: 0.3836\n",
      "Epoch 3/50\n",
      "50000/50000 [==============================] - 2s 39us/step - loss: 1.6154 - acc: 0.4350 - val_loss: 1.6763 - val_acc: 0.4150\n",
      "Epoch 4/50\n",
      "50000/50000 [==============================] - 2s 39us/step - loss: 1.5456 - acc: 0.4593 - val_loss: 1.6337 - val_acc: 0.4299\n",
      "Epoch 5/50\n",
      "50000/50000 [==============================] - 2s 39us/step - loss: 1.4950 - acc: 0.4774 - val_loss: 1.5969 - val_acc: 0.4435\n",
      "Epoch 6/50\n",
      "50000/50000 [==============================] - 2s 39us/step - loss: 1.4479 - acc: 0.4934 - val_loss: 1.5594 - val_acc: 0.4494\n",
      "Epoch 7/50\n",
      "50000/50000 [==============================] - 2s 38us/step - loss: 1.4106 - acc: 0.5068 - val_loss: 1.5366 - val_acc: 0.4668\n",
      "Epoch 8/50\n",
      "50000/50000 [==============================] - 2s 38us/step - loss: 1.3757 - acc: 0.5191 - val_loss: 1.5255 - val_acc: 0.4669\n",
      "Epoch 9/50\n",
      "50000/50000 [==============================] - 2s 39us/step - loss: 1.3412 - acc: 0.5323 - val_loss: 1.5121 - val_acc: 0.4737\n",
      "Epoch 10/50\n",
      "50000/50000 [==============================] - 2s 38us/step - loss: 1.3134 - acc: 0.5419 - val_loss: 1.5054 - val_acc: 0.4748\n",
      "Epoch 11/50\n",
      "50000/50000 [==============================] - 2s 38us/step - loss: 1.2843 - acc: 0.5531 - val_loss: 1.4945 - val_acc: 0.4786\n",
      "Epoch 12/50\n",
      "50000/50000 [==============================] - 2s 38us/step - loss: 1.2578 - acc: 0.5637 - val_loss: 1.4860 - val_acc: 0.4790\n",
      "Epoch 13/50\n",
      "50000/50000 [==============================] - 2s 38us/step - loss: 1.2322 - acc: 0.5714 - val_loss: 1.5087 - val_acc: 0.4733\n",
      "Epoch 14/50\n",
      "50000/50000 [==============================] - 2s 38us/step - loss: 1.2072 - acc: 0.5799 - val_loss: 1.4669 - val_acc: 0.4875\n",
      "Epoch 15/50\n",
      "50000/50000 [==============================] - 2s 38us/step - loss: 1.1819 - acc: 0.5908 - val_loss: 1.4706 - val_acc: 0.4853\n",
      "Epoch 16/50\n",
      "50000/50000 [==============================] - 2s 38us/step - loss: 1.1597 - acc: 0.5989 - val_loss: 1.4602 - val_acc: 0.4926\n",
      "Epoch 17/50\n",
      "50000/50000 [==============================] - 2s 38us/step - loss: 1.1347 - acc: 0.6098 - val_loss: 1.4587 - val_acc: 0.4891\n",
      "Epoch 18/50\n",
      "50000/50000 [==============================] - 2s 38us/step - loss: 1.1129 - acc: 0.6185 - val_loss: 1.4519 - val_acc: 0.4947\n",
      "Epoch 19/50\n",
      "50000/50000 [==============================] - 2s 38us/step - loss: 1.0901 - acc: 0.6269 - val_loss: 1.4494 - val_acc: 0.4920\n",
      "Epoch 20/50\n",
      "50000/50000 [==============================] - 2s 38us/step - loss: 1.0677 - acc: 0.6346 - val_loss: 1.4558 - val_acc: 0.4974\n",
      "Epoch 21/50\n",
      "50000/50000 [==============================] - 2s 38us/step - loss: 1.0464 - acc: 0.6436 - val_loss: 1.4610 - val_acc: 0.4928\n",
      "Epoch 22/50\n",
      "50000/50000 [==============================] - 2s 38us/step - loss: 1.0244 - acc: 0.6534 - val_loss: 1.4537 - val_acc: 0.4974\n",
      "Epoch 23/50\n",
      "50000/50000 [==============================] - 2s 38us/step - loss: 1.0027 - acc: 0.6612 - val_loss: 1.4526 - val_acc: 0.4984\n",
      "Epoch 24/50\n",
      "50000/50000 [==============================] - 2s 38us/step - loss: 0.9804 - acc: 0.6702 - val_loss: 1.4593 - val_acc: 0.4938\n",
      "Epoch 25/50\n",
      "50000/50000 [==============================] - 2s 38us/step - loss: 0.9604 - acc: 0.6774 - val_loss: 1.4591 - val_acc: 0.4973\n",
      "Epoch 26/50\n",
      "50000/50000 [==============================] - 2s 38us/step - loss: 0.9396 - acc: 0.6847 - val_loss: 1.4673 - val_acc: 0.4970\n",
      "Epoch 27/50\n",
      "50000/50000 [==============================] - 2s 38us/step - loss: 0.9188 - acc: 0.6936 - val_loss: 1.4719 - val_acc: 0.5024\n",
      "Epoch 28/50\n",
      "50000/50000 [==============================] - 2s 38us/step - loss: 0.8979 - acc: 0.7020 - val_loss: 1.4698 - val_acc: 0.5000\n",
      "Epoch 29/50\n",
      "50000/50000 [==============================] - 2s 38us/step - loss: 0.8767 - acc: 0.7094 - val_loss: 1.4824 - val_acc: 0.4975\n",
      "Epoch 30/50\n",
      "50000/50000 [==============================] - 2s 38us/step - loss: 0.8570 - acc: 0.7174 - val_loss: 1.4936 - val_acc: 0.4936\n",
      "Epoch 31/50\n",
      "50000/50000 [==============================] - 2s 38us/step - loss: 0.8395 - acc: 0.7236 - val_loss: 1.4831 - val_acc: 0.4990\n",
      "Epoch 32/50\n",
      "50000/50000 [==============================] - 2s 38us/step - loss: 0.8186 - acc: 0.7340 - val_loss: 1.5004 - val_acc: 0.4952\n",
      "Epoch 33/50\n",
      "50000/50000 [==============================] - 2s 38us/step - loss: 0.7986 - acc: 0.7431 - val_loss: 1.4979 - val_acc: 0.4987\n",
      "Epoch 34/50\n",
      "50000/50000 [==============================] - 2s 38us/step - loss: 0.7782 - acc: 0.7484 - val_loss: 1.4988 - val_acc: 0.4986\n",
      "Epoch 35/50\n",
      "50000/50000 [==============================] - 2s 38us/step - loss: 0.7605 - acc: 0.7546 - val_loss: 1.5214 - val_acc: 0.4910\n",
      "Epoch 36/50\n",
      "50000/50000 [==============================] - 2s 38us/step - loss: 0.7410 - acc: 0.7643 - val_loss: 1.5260 - val_acc: 0.4955\n",
      "Epoch 37/50\n",
      "50000/50000 [==============================] - 2s 38us/step - loss: 0.7210 - acc: 0.7728 - val_loss: 1.5441 - val_acc: 0.4957\n",
      "Epoch 38/50\n",
      "50000/50000 [==============================] - 2s 38us/step - loss: 0.7047 - acc: 0.7773 - val_loss: 1.5375 - val_acc: 0.4904\n",
      "Epoch 39/50\n",
      "50000/50000 [==============================] - 2s 38us/step - loss: 0.6848 - acc: 0.7862 - val_loss: 1.5523 - val_acc: 0.4907\n",
      "Epoch 40/50\n",
      "50000/50000 [==============================] - 2s 38us/step - loss: 0.6661 - acc: 0.7935 - val_loss: 1.5490 - val_acc: 0.4969\n",
      "Epoch 41/50\n",
      "50000/50000 [==============================] - 2s 38us/step - loss: 0.6470 - acc: 0.8022 - val_loss: 1.5678 - val_acc: 0.4895\n",
      "Epoch 42/50\n",
      "50000/50000 [==============================] - 2s 38us/step - loss: 0.6275 - acc: 0.8104 - val_loss: 1.5904 - val_acc: 0.4917\n",
      "Epoch 43/50\n",
      "50000/50000 [==============================] - 2s 38us/step - loss: 0.6123 - acc: 0.8142 - val_loss: 1.5849 - val_acc: 0.4942\n",
      "Epoch 44/50\n",
      "50000/50000 [==============================] - 2s 38us/step - loss: 0.5933 - acc: 0.8213 - val_loss: 1.6030 - val_acc: 0.4922\n",
      "Epoch 45/50\n",
      "50000/50000 [==============================] - 2s 38us/step - loss: 0.5787 - acc: 0.8288 - val_loss: 1.6233 - val_acc: 0.4910\n"
     ]
    },
    {
     "name": "stdout",
     "output_type": "stream",
     "text": [
      "Epoch 46/50\n",
      "50000/50000 [==============================] - 2s 38us/step - loss: 0.5606 - acc: 0.8332 - val_loss: 1.6368 - val_acc: 0.4826\n",
      "Epoch 47/50\n",
      "50000/50000 [==============================] - 2s 38us/step - loss: 0.5436 - acc: 0.8428 - val_loss: 1.6458 - val_acc: 0.4881\n",
      "Epoch 48/50\n",
      "50000/50000 [==============================] - 2s 38us/step - loss: 0.5268 - acc: 0.8485 - val_loss: 1.6548 - val_acc: 0.4837\n",
      "Epoch 49/50\n",
      "50000/50000 [==============================] - 2s 38us/step - loss: 0.5092 - acc: 0.8560 - val_loss: 1.6728 - val_acc: 0.4921\n",
      "Epoch 50/50\n",
      "50000/50000 [==============================] - 2s 38us/step - loss: 0.4926 - acc: 0.8616 - val_loss: 1.6793 - val_acc: 0.4919\n",
      "10000/10000 [==============================] - 0s 47us/step\n"
     ]
    }
   ],
   "source": [
    "model = build_mlp(input_shape=x_train.shape[1:])\n",
    "model.summary()\n",
    "optimizer = keras.optimizers.SGD(lr=LEARNING_RATE, nesterov=True, momentum=MOMENTUM)\n",
    "model.compile(loss=\"categorical_crossentropy\", metrics=[\"accuracy\"], optimizer=optimizer)\n",
    "\n",
    "model.fit(x_train, y_train, \n",
    "          epochs=EPOCHS, \n",
    "          batch_size=BATCH_SIZE, \n",
    "          validation_data=(x_test, y_test), \n",
    "          shuffle=True,\n",
    "          callbacks=[model_ckpt]\n",
    "         )\n",
    "\n",
    "# Collect results\n",
    "train_loss = model.history.history[\"loss\"]\n",
    "valid_loss = model.history.history[\"val_loss\"]\n",
    "train_acc = model.history.history[\"acc\"]\n",
    "valid_acc = model.history.history[\"val_acc\"]\n",
    "\n",
    "# Load back\n",
    "model = keras.models.load_model(\"./tmp.h5\")\n",
    "loss_loadback, acc_loadback = model.evaluate(x_test, y_test)"
   ]
  },
  {
   "cell_type": "code",
   "execution_count": 9,
   "metadata": {},
   "outputs": [
    {
     "data": {
      "image/png": "[encoded data removed]",
      "text/plain": [
       "<Figure size 432x288 with 1 Axes>"
      ]
     },
     "metadata": {
      "needs_background": "light"
     },
     "output_type": "display_data"
    },
    {
     "data": {
      "image/png": "[encoded data removed]",
      "text/plain": [
       "<Figure size 432x288 with 1 Axes>"
      ]
     },
     "metadata": {
      "needs_background": "light"
     },
     "output_type": "display_data"
    }
   ],
   "source": [
    "import matplotlib.pyplot as plt\n",
    "%matplotlib inline\n",
    "\n",
    "plt.plot(range(len(train_loss)), train_loss, label=\"train loss\")\n",
    "plt.plot(range(len(valid_loss)), valid_loss, label=\"valid loss\")\n",
    "plt.hlines(y=loss_loadback, xmin=0, xmax=len(train_loss), colors='r', linestyles='--')\n",
    "plt.legend()\n",
    "plt.title(\"Loss\")\n",
    "plt.show()\n",
    "\n",
    "plt.plot(range(len(train_acc)), train_acc, label=\"train accuracy\")\n",
    "plt.plot(range(len(valid_acc)), valid_acc, label=\"valid accuracy\")\n",
    "plt.hlines(y=acc_loadback, xmin=0, xmax=len(train_loss), colors='r', linestyles='--')\n",
    "plt.legend()\n",
    "plt.title(\"Accuracy\")\n",
    "plt.show()"
   ]
  },
  {
   "cell_type": "code",
   "execution_count": 10,
   "metadata": {},
   "outputs": [],
   "source": [
    "# save_weights_only = True"
   ]
  },
  {
   "cell_type": "code",
   "execution_count": 19,
   "metadata": {},
   "outputs": [],
   "source": [
    "\"\"\"\n",
    "# 載入 Callbacks, 並將監控目標設為 validation loss, 且只存最佳參數時的模型\n",
    "\"\"\"\n",
    "from keras.callbacks import ModelCheckpoint\n",
    "\n",
    "model_ckpt = ModelCheckpoint(filepath=\"./tmp.h5\", \n",
    "                             monitor=\"val_loss\",\n",
    "                             save_best_only=False,\n",
    "                             save_weights_only = True)"
   ]
  },
  {
   "cell_type": "code",
   "execution_count": 22,
   "metadata": {},
   "outputs": [
    {
     "name": "stdout",
     "output_type": "stream",
     "text": [
      "_________________________________________________________________\n",
      "Layer (type)                 Output Shape              Param #   \n",
      "=================================================================\n",
      "input_7 (InputLayer)         (None, 3072)              0         \n",
      "_________________________________________________________________\n",
      "hidden_layer1 (Dense)        (None, 512)               1573376   \n",
      "_________________________________________________________________\n",
      "batch_normalization_19 (Batc (None, 512)               2048      \n",
      "_________________________________________________________________\n",
      "hidden_layer2 (Dense)        (None, 256)               131328    \n",
      "_________________________________________________________________\n",
      "batch_normalization_20 (Batc (None, 256)               1024      \n",
      "_________________________________________________________________\n",
      "hidden_layer3 (Dense)        (None, 128)               32896     \n",
      "_________________________________________________________________\n",
      "batch_normalization_21 (Batc (None, 128)               512       \n",
      "_________________________________________________________________\n",
      "output (Dense)               (None, 10)                1290      \n",
      "=================================================================\n",
      "Total params: 1,742,474\n",
      "Trainable params: 1,740,682\n",
      "Non-trainable params: 1,792\n",
      "_________________________________________________________________\n",
      "Train on 50000 samples, validate on 10000 samples\n",
      "Epoch 1/50\n",
      "50000/50000 [==============================] - 3s 62us/step - loss: 2.2399 - acc: 0.2729 - val_loss: 2.1669 - val_acc: 0.3203\n",
      "Epoch 2/50\n",
      "50000/50000 [==============================] - 2s 38us/step - loss: 1.7409 - acc: 0.3984 - val_loss: 1.8207 - val_acc: 0.3846\n",
      "Epoch 3/50\n",
      "50000/50000 [==============================] - 2s 39us/step - loss: 1.6112 - acc: 0.4397 - val_loss: 1.6755 - val_acc: 0.4235\n",
      "Epoch 4/50\n",
      "50000/50000 [==============================] - 2s 39us/step - loss: 1.5357 - acc: 0.4646 - val_loss: 1.6317 - val_acc: 0.4321\n",
      "Epoch 5/50\n",
      "50000/50000 [==============================] - 2s 38us/step - loss: 1.4804 - acc: 0.4846 - val_loss: 1.5880 - val_acc: 0.4432\n",
      "Epoch 6/50\n",
      "50000/50000 [==============================] - 2s 38us/step - loss: 1.4362 - acc: 0.5020 - val_loss: 1.5529 - val_acc: 0.4601\n",
      "Epoch 7/50\n",
      "50000/50000 [==============================] - 2s 38us/step - loss: 1.3942 - acc: 0.5179 - val_loss: 1.5400 - val_acc: 0.4654\n",
      "Epoch 8/50\n",
      "50000/50000 [==============================] - 2s 38us/step - loss: 1.3601 - acc: 0.5289 - val_loss: 1.5211 - val_acc: 0.4659\n",
      "Epoch 9/50\n",
      "50000/50000 [==============================] - 2s 38us/step - loss: 1.3282 - acc: 0.5424 - val_loss: 1.5123 - val_acc: 0.4735\n",
      "Epoch 10/50\n",
      "50000/50000 [==============================] - 2s 38us/step - loss: 1.2982 - acc: 0.5534 - val_loss: 1.5146 - val_acc: 0.4735\n",
      "Epoch 11/50\n",
      "50000/50000 [==============================] - 2s 38us/step - loss: 1.2698 - acc: 0.5624 - val_loss: 1.4961 - val_acc: 0.4804\n",
      "Epoch 12/50\n",
      "50000/50000 [==============================] - 2s 39us/step - loss: 1.2414 - acc: 0.5727 - val_loss: 1.5047 - val_acc: 0.4773\n",
      "Epoch 13/50\n",
      "50000/50000 [==============================] - 2s 38us/step - loss: 1.2169 - acc: 0.5816 - val_loss: 1.4832 - val_acc: 0.4899\n",
      "Epoch 14/50\n",
      "50000/50000 [==============================] - 2s 38us/step - loss: 1.1925 - acc: 0.5903 - val_loss: 1.4761 - val_acc: 0.4800\n",
      "Epoch 15/50\n",
      "50000/50000 [==============================] - 2s 38us/step - loss: 1.1680 - acc: 0.6007 - val_loss: 1.4675 - val_acc: 0.4871\n",
      "Epoch 16/50\n",
      "50000/50000 [==============================] - 2s 38us/step - loss: 1.1439 - acc: 0.6094 - val_loss: 1.4671 - val_acc: 0.4870\n",
      "Epoch 17/50\n",
      "50000/50000 [==============================] - 2s 38us/step - loss: 1.1201 - acc: 0.6191 - val_loss: 1.4592 - val_acc: 0.4918\n",
      "Epoch 18/50\n",
      "50000/50000 [==============================] - 2s 39us/step - loss: 1.0971 - acc: 0.6279 - val_loss: 1.4683 - val_acc: 0.4907\n",
      "Epoch 19/50\n",
      "50000/50000 [==============================] - 2s 39us/step - loss: 1.0753 - acc: 0.6354 - val_loss: 1.4656 - val_acc: 0.4925\n",
      "Epoch 20/50\n",
      "50000/50000 [==============================] - 2s 39us/step - loss: 1.0520 - acc: 0.6457 - val_loss: 1.4626 - val_acc: 0.4944\n",
      "Epoch 21/50\n",
      "50000/50000 [==============================] - 2s 39us/step - loss: 1.0308 - acc: 0.6544 - val_loss: 1.4610 - val_acc: 0.4916\n",
      "Epoch 22/50\n",
      "50000/50000 [==============================] - 2s 38us/step - loss: 1.0099 - acc: 0.6598 - val_loss: 1.4661 - val_acc: 0.4975\n",
      "Epoch 23/50\n",
      "50000/50000 [==============================] - 2s 38us/step - loss: 0.9893 - acc: 0.6689 - val_loss: 1.4638 - val_acc: 0.4940\n",
      "Epoch 24/50\n",
      "50000/50000 [==============================] - 2s 38us/step - loss: 0.9679 - acc: 0.6754 - val_loss: 1.4762 - val_acc: 0.4991\n",
      "Epoch 25/50\n",
      "50000/50000 [==============================] - 2s 38us/step - loss: 0.9485 - acc: 0.6835 - val_loss: 1.4590 - val_acc: 0.4990\n",
      "Epoch 26/50\n",
      "50000/50000 [==============================] - 2s 38us/step - loss: 0.9278 - acc: 0.6920 - val_loss: 1.4714 - val_acc: 0.4958\n",
      "Epoch 27/50\n",
      "50000/50000 [==============================] - 2s 38us/step - loss: 0.9069 - acc: 0.6995 - val_loss: 1.4771 - val_acc: 0.4958\n",
      "Epoch 28/50\n",
      "50000/50000 [==============================] - 2s 38us/step - loss: 0.8872 - acc: 0.7073 - val_loss: 1.4817 - val_acc: 0.4969\n",
      "Epoch 29/50\n",
      "50000/50000 [==============================] - 2s 38us/step - loss: 0.8673 - acc: 0.7146 - val_loss: 1.4886 - val_acc: 0.4954\n",
      "Epoch 30/50\n",
      "50000/50000 [==============================] - 2s 38us/step - loss: 0.8473 - acc: 0.7233 - val_loss: 1.4941 - val_acc: 0.4991\n",
      "Epoch 31/50\n",
      "50000/50000 [==============================] - 2s 38us/step - loss: 0.8280 - acc: 0.7290 - val_loss: 1.4887 - val_acc: 0.4996\n",
      "Epoch 32/50\n",
      "50000/50000 [==============================] - 2s 39us/step - loss: 0.8090 - acc: 0.7374 - val_loss: 1.5195 - val_acc: 0.4907\n",
      "Epoch 33/50\n",
      "50000/50000 [==============================] - 2s 39us/step - loss: 0.7902 - acc: 0.7453 - val_loss: 1.4996 - val_acc: 0.5031\n",
      "Epoch 34/50\n",
      "50000/50000 [==============================] - 2s 39us/step - loss: 0.7711 - acc: 0.7529 - val_loss: 1.5059 - val_acc: 0.4981\n",
      "Epoch 35/50\n",
      "50000/50000 [==============================] - 2s 39us/step - loss: 0.7520 - acc: 0.7603 - val_loss: 1.5119 - val_acc: 0.4964\n",
      "Epoch 36/50\n",
      "50000/50000 [==============================] - 2s 39us/step - loss: 0.7317 - acc: 0.7671 - val_loss: 1.5270 - val_acc: 0.4985\n",
      "Epoch 37/50\n",
      "50000/50000 [==============================] - 2s 38us/step - loss: 0.7125 - acc: 0.7755 - val_loss: 1.5417 - val_acc: 0.4951\n",
      "Epoch 38/50\n",
      "50000/50000 [==============================] - 2s 39us/step - loss: 0.6950 - acc: 0.7844 - val_loss: 1.5671 - val_acc: 0.4838\n",
      "Epoch 39/50\n",
      "50000/50000 [==============================] - 2s 39us/step - loss: 0.6764 - acc: 0.7899 - val_loss: 1.5603 - val_acc: 0.5016\n",
      "Epoch 40/50\n",
      "50000/50000 [==============================] - 2s 39us/step - loss: 0.6588 - acc: 0.7974 - val_loss: 1.5617 - val_acc: 0.4952\n",
      "Epoch 41/50\n",
      "50000/50000 [==============================] - 2s 39us/step - loss: 0.6398 - acc: 0.8044 - val_loss: 1.5739 - val_acc: 0.4961\n",
      "Epoch 42/50\n",
      "50000/50000 [==============================] - 2s 39us/step - loss: 0.6234 - acc: 0.8117 - val_loss: 1.5973 - val_acc: 0.4877\n",
      "Epoch 43/50\n",
      "50000/50000 [==============================] - 2s 39us/step - loss: 0.6059 - acc: 0.8180 - val_loss: 1.5938 - val_acc: 0.4956\n",
      "Epoch 44/50\n",
      "50000/50000 [==============================] - 2s 38us/step - loss: 0.5874 - acc: 0.8249 - val_loss: 1.6052 - val_acc: 0.4943\n",
      "Epoch 45/50\n",
      "50000/50000 [==============================] - 2s 39us/step - loss: 0.5725 - acc: 0.8314 - val_loss: 1.6242 - val_acc: 0.4950\n",
      "Epoch 46/50\n",
      "50000/50000 [==============================] - 2s 39us/step - loss: 0.5545 - acc: 0.8383 - val_loss: 1.6253 - val_acc: 0.4908\n",
      "Epoch 47/50\n",
      "50000/50000 [==============================] - 2s 38us/step - loss: 0.5374 - acc: 0.8454 - val_loss: 1.6423 - val_acc: 0.4896\n",
      "Epoch 48/50\n",
      "50000/50000 [==============================] - 2s 39us/step - loss: 0.5205 - acc: 0.8508 - val_loss: 1.6523 - val_acc: 0.4926\n",
      "Epoch 49/50\n",
      "50000/50000 [==============================] - 2s 38us/step - loss: 0.5064 - acc: 0.8563 - val_loss: 1.7001 - val_acc: 0.4849\n"
     ]
    },
    {
     "name": "stdout",
     "output_type": "stream",
     "text": [
      "Epoch 50/50\n",
      "50000/50000 [==============================] - 2s 38us/step - loss: 0.4897 - acc: 0.8637 - val_loss: 1.6831 - val_acc: 0.4872\n",
      "10000/10000 [==============================] - 0s 42us/step\n"
     ]
    }
   ],
   "source": [
    "model = build_mlp(input_shape=x_train.shape[1:])\n",
    "model.summary()\n",
    "optimizer = keras.optimizers.SGD(lr=LEARNING_RATE, nesterov=True, momentum=MOMENTUM)\n",
    "model.compile(loss=\"categorical_crossentropy\", metrics=[\"accuracy\"], optimizer=optimizer)\n",
    "\n",
    "model.fit(x_train, y_train, \n",
    "          epochs=EPOCHS, \n",
    "          batch_size=BATCH_SIZE, \n",
    "          validation_data=(x_test, y_test), \n",
    "          shuffle=True,\n",
    "          callbacks=[model_ckpt]\n",
    "         )\n",
    "\n",
    "# Collect results\n",
    "train_loss = model.history.history[\"loss\"]\n",
    "valid_loss = model.history.history[\"val_loss\"]\n",
    "train_acc = model.history.history[\"acc\"]\n",
    "valid_acc = model.history.history[\"val_acc\"]\n",
    "\n",
    "# Load back\n",
    "# model = keras.models.load_model(\"./tmp.h5\")\n",
    "loss_loadback, acc_loadback = model.evaluate(x_test, y_test)"
   ]
  },
  {
   "cell_type": "code",
   "execution_count": 23,
   "metadata": {},
   "outputs": [
    {
     "data": {
      "image/png": "[encoded data removed]",
      "text/plain": [
       "<Figure size 432x288 with 1 Axes>"
      ]
     },
     "metadata": {
      "needs_background": "light"
     },
     "output_type": "display_data"
    },
    {
     "data": {
      "image/png": "[encoded data removed]",
      "text/plain": [
       "<Figure size 432x288 with 1 Axes>"
      ]
     },
     "metadata": {
      "needs_background": "light"
     },
     "output_type": "display_data"
    }
   ],
   "source": [
    "import matplotlib.pyplot as plt\n",
    "%matplotlib inline\n",
    "\n",
    "plt.plot(range(len(train_loss)), train_loss, label=\"train loss\")\n",
    "plt.plot(range(len(valid_loss)), valid_loss, label=\"valid loss\")\n",
    "plt.hlines(y=loss_loadback, xmin=0, xmax=len(train_loss), colors='r', linestyles='--')\n",
    "plt.legend()\n",
    "plt.title(\"Loss\")\n",
    "plt.show()\n",
    "\n",
    "plt.plot(range(len(train_acc)), train_acc, label=\"train accuracy\")\n",
    "plt.plot(range(len(valid_acc)), valid_acc, label=\"valid accuracy\")\n",
    "plt.hlines(y=acc_loadback, xmin=0, xmax=len(train_loss), colors='r', linestyles='--')\n",
    "plt.legend()\n",
    "plt.title(\"Accuracy\")\n",
    "plt.show()"
   ]
  },
  {
   "cell_type": "code",
   "execution_count": null,
   "metadata": {},
   "outputs": [],
   "source": []
  }
 ],
 "metadata": {
  "kernelspec": {
   "display_name": "Python 3",
   "language": "python",
   "name": "python3"
  },
  "language_info": {
   "codemirror_mode": {
    "name": "ipython",
    "version": 3
   },
   "file_extension": ".py",
   "mimetype": "text/x-python",
   "name": "python",
   "nbconvert_exporter": "python",
   "pygments_lexer": "ipython3",
   "version": "3.7.1"
  }
 },
 "nbformat": 4,
 "nbformat_minor": 2
}
